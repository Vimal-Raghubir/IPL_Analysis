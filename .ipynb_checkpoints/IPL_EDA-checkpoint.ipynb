{
 "cells": [
  {
   "cell_type": "markdown",
   "id": "25b42b04",
   "metadata": {},
   "source": [
    "# IPL Exploratory Data Analysis"
   ]
  },
  {
   "cell_type": "markdown",
   "id": "0406fe17",
   "metadata": {},
   "source": [
    "## This notebook serves to explore the data of all IPL player statistics between 2016 and 2022. There will be EDA conducted on both the bowling and the batting statistics."
   ]
  },
  {
   "cell_type": "markdown",
   "id": "f1b19557",
   "metadata": {},
   "source": [
    "### 1. Import the data into the notebook. \n",
    "First I will define a function to load in data given a file path and a filename."
   ]
  },
  {
   "cell_type": "code",
   "execution_count": 1,
   "id": "edf7dbe9",
   "metadata": {},
   "outputs": [],
   "source": [
    "import os\n",
    "import pandas as pd\n",
    "\n",
    "\n",
    "def load_data(file_path , filename):\n",
    "    \n",
    "    csv_path = os.path.join(file_path, filename)\n",
    "    return pd.read_csv(csv_path)"
   ]
  },
  {
   "cell_type": "code",
   "execution_count": 2,
   "id": "ccf87266",
   "metadata": {},
   "outputs": [],
   "source": [
    "def write_csv_data(file_path, filename, df):\n",
    "    csv_path = os.path.join(file_path, filename)\n",
    "    df.to_csv(csv_path)\n",
    "    \n",
    "    if os.path.exists(csv_path) and os.path.getsize(csv_path) > 0:\n",
    "        print(filename + \" was written to successfully!\")"
   ]
  },
  {
   "cell_type": "markdown",
   "id": "b0b28675",
   "metadata": {},
   "source": [
    "#### 1a. Load in batting data\n",
    "We will then call the function to load in all batting data."
   ]
  },
  {
   "cell_type": "code",
   "execution_count": 3,
   "id": "a370be9e",
   "metadata": {},
   "outputs": [],
   "source": [
    "batting_file_path = \"Data/Batting_Stats\"\n",
    "\n",
    "\n",
    "# All batting dataframes\n",
    "batting_2016 = load_data(batting_file_path, \"BATTING_STATS-IPL_2016.csv\")\n",
    "batting_2017 = load_data(batting_file_path, \"BATTING_STATS-IPL_2017.csv\")\n",
    "batting_2018 = load_data(batting_file_path, \"BATTING_STATS-IPL_2018.csv\")\n",
    "batting_2019 = load_data(batting_file_path, \"BATTING_STATS-IPL_2019.csv\")\n",
    "batting_2020 = load_data(batting_file_path, \"BATTING_STATS-IPL_2020.csv\")\n",
    "batting_2021 = load_data(batting_file_path, \"BATTING_STATS-IPL_2021.csv\")\n",
    "batting_2022 = load_data(batting_file_path, \"BATTING_STATS-IPL_2022.csv\")\n",
    "\n"
   ]
  },
  {
   "cell_type": "markdown",
   "id": "14d72164",
   "metadata": {},
   "source": [
    "#### 1b. Load in bowling data\n",
    "We will then call the function to load in all bowling data."
   ]
  },
  {
   "cell_type": "code",
   "execution_count": 4,
   "id": "7968a1ec",
   "metadata": {},
   "outputs": [],
   "source": [
    "bowling_file_path = \"Data/Bowling_Stats\"\n",
    "\n",
    "# All bowling dataframes\n",
    "bowling_2016 = load_data(bowling_file_path, \"BOWLING_STATS-IPL_2016.csv\")\n",
    "bowling_2017 = load_data(bowling_file_path, \"BOWLING_STATS-IPL_2017.csv\")\n",
    "bowling_2018 = load_data(bowling_file_path, \"BOWLING_STATS-IPL_2018.csv\")\n",
    "bowling_2019 = load_data(bowling_file_path, \"BOWLING_STATS-IPL_2019.csv\")\n",
    "bowling_2020 = load_data(bowling_file_path, \"BOWLING_STATS-IPL_2020.csv\")\n",
    "bowling_2021 = load_data(bowling_file_path, \"BOWLING_STATS-IPL_2021.csv\")\n",
    "bowling_2022 = load_data(bowling_file_path, \"BOWLING_STATS-IPL_2022.csv\")"
   ]
  },
  {
   "cell_type": "markdown",
   "id": "ab17a838",
   "metadata": {},
   "source": [
    "### 2. Take a first look at the dataframes\n",
    "We will use some basic dataframe commands to inspect the content."
   ]
  },
  {
   "cell_type": "code",
   "execution_count": 5,
   "id": "9f536461",
   "metadata": {},
   "outputs": [
    {
     "data": {
      "text/html": [
       "<div>\n",
       "<style scoped>\n",
       "    .dataframe tbody tr th:only-of-type {\n",
       "        vertical-align: middle;\n",
       "    }\n",
       "\n",
       "    .dataframe tbody tr th {\n",
       "        vertical-align: top;\n",
       "    }\n",
       "\n",
       "    .dataframe thead th {\n",
       "        text-align: right;\n",
       "    }\n",
       "</style>\n",
       "<table border=\"1\" class=\"dataframe\">\n",
       "  <thead>\n",
       "    <tr style=\"text-align: right;\">\n",
       "      <th></th>\n",
       "      <th>POS</th>\n",
       "      <th>Player</th>\n",
       "      <th>Mat</th>\n",
       "      <th>Inns</th>\n",
       "      <th>NO</th>\n",
       "      <th>Runs</th>\n",
       "      <th>HS</th>\n",
       "      <th>Avg</th>\n",
       "      <th>BF</th>\n",
       "      <th>SR</th>\n",
       "      <th>100</th>\n",
       "      <th>50</th>\n",
       "      <th>4s</th>\n",
       "      <th>6s</th>\n",
       "    </tr>\n",
       "  </thead>\n",
       "  <tbody>\n",
       "    <tr>\n",
       "      <th>0</th>\n",
       "      <td>1</td>\n",
       "      <td>Jos Buttler</td>\n",
       "      <td>17</td>\n",
       "      <td>17</td>\n",
       "      <td>2</td>\n",
       "      <td>863</td>\n",
       "      <td>116</td>\n",
       "      <td>57.53</td>\n",
       "      <td>579</td>\n",
       "      <td>149.05</td>\n",
       "      <td>4</td>\n",
       "      <td>4</td>\n",
       "      <td>83</td>\n",
       "      <td>45</td>\n",
       "    </tr>\n",
       "    <tr>\n",
       "      <th>1</th>\n",
       "      <td>2</td>\n",
       "      <td>K L Rahul</td>\n",
       "      <td>15</td>\n",
       "      <td>15</td>\n",
       "      <td>3</td>\n",
       "      <td>616</td>\n",
       "      <td>103*</td>\n",
       "      <td>51.33</td>\n",
       "      <td>455</td>\n",
       "      <td>135.38</td>\n",
       "      <td>2</td>\n",
       "      <td>4</td>\n",
       "      <td>45</td>\n",
       "      <td>30</td>\n",
       "    </tr>\n",
       "    <tr>\n",
       "      <th>2</th>\n",
       "      <td>3</td>\n",
       "      <td>Quinton De Kock</td>\n",
       "      <td>15</td>\n",
       "      <td>15</td>\n",
       "      <td>1</td>\n",
       "      <td>508</td>\n",
       "      <td>140*</td>\n",
       "      <td>36.29</td>\n",
       "      <td>341</td>\n",
       "      <td>148.97</td>\n",
       "      <td>1</td>\n",
       "      <td>3</td>\n",
       "      <td>47</td>\n",
       "      <td>23</td>\n",
       "    </tr>\n",
       "    <tr>\n",
       "      <th>3</th>\n",
       "      <td>4</td>\n",
       "      <td>Hardik Pandya</td>\n",
       "      <td>15</td>\n",
       "      <td>15</td>\n",
       "      <td>4</td>\n",
       "      <td>487</td>\n",
       "      <td>87*</td>\n",
       "      <td>44.27</td>\n",
       "      <td>371</td>\n",
       "      <td>131.26</td>\n",
       "      <td>0</td>\n",
       "      <td>4</td>\n",
       "      <td>49</td>\n",
       "      <td>12</td>\n",
       "    </tr>\n",
       "    <tr>\n",
       "      <th>4</th>\n",
       "      <td>5</td>\n",
       "      <td>Shubman Gill</td>\n",
       "      <td>16</td>\n",
       "      <td>16</td>\n",
       "      <td>2</td>\n",
       "      <td>483</td>\n",
       "      <td>96</td>\n",
       "      <td>34.5</td>\n",
       "      <td>365</td>\n",
       "      <td>132.32</td>\n",
       "      <td>0</td>\n",
       "      <td>4</td>\n",
       "      <td>51</td>\n",
       "      <td>11</td>\n",
       "    </tr>\n",
       "  </tbody>\n",
       "</table>\n",
       "</div>"
      ],
      "text/plain": [
       "   POS           Player  Mat  Inns  NO  Runs    HS    Avg   BF      SR  100  \\\n",
       "0    1      Jos Buttler   17    17   2   863   116  57.53  579  149.05    4   \n",
       "1    2        K L Rahul   15    15   3   616  103*  51.33  455  135.38    2   \n",
       "2    3  Quinton De Kock   15    15   1   508  140*  36.29  341  148.97    1   \n",
       "3    4    Hardik Pandya   15    15   4   487   87*  44.27  371  131.26    0   \n",
       "4    5     Shubman Gill   16    16   2   483    96   34.5  365  132.32    0   \n",
       "\n",
       "   50  4s  6s  \n",
       "0   4  83  45  \n",
       "1   4  45  30  \n",
       "2   3  47  23  \n",
       "3   4  49  12  \n",
       "4   4  51  11  "
      ]
     },
     "execution_count": 5,
     "metadata": {},
     "output_type": "execute_result"
    }
   ],
   "source": [
    "batting_2022.head()"
   ]
  },
  {
   "cell_type": "code",
   "execution_count": 6,
   "id": "4b1da0fb",
   "metadata": {},
   "outputs": [
    {
     "data": {
      "text/html": [
       "<div>\n",
       "<style scoped>\n",
       "    .dataframe tbody tr th:only-of-type {\n",
       "        vertical-align: middle;\n",
       "    }\n",
       "\n",
       "    .dataframe tbody tr th {\n",
       "        vertical-align: top;\n",
       "    }\n",
       "\n",
       "    .dataframe thead th {\n",
       "        text-align: right;\n",
       "    }\n",
       "</style>\n",
       "<table border=\"1\" class=\"dataframe\">\n",
       "  <thead>\n",
       "    <tr style=\"text-align: right;\">\n",
       "      <th></th>\n",
       "      <th>POS</th>\n",
       "      <th>Player</th>\n",
       "      <th>Mat</th>\n",
       "      <th>Inns</th>\n",
       "      <th>Ov</th>\n",
       "      <th>Runs</th>\n",
       "      <th>Wkts</th>\n",
       "      <th>BBI</th>\n",
       "      <th>Avg</th>\n",
       "      <th>Econ</th>\n",
       "      <th>SR</th>\n",
       "      <th>4w</th>\n",
       "      <th>5w</th>\n",
       "    </tr>\n",
       "  </thead>\n",
       "  <tbody>\n",
       "    <tr>\n",
       "      <th>0</th>\n",
       "      <td>1</td>\n",
       "      <td>Yuzvendra Chahal</td>\n",
       "      <td>17</td>\n",
       "      <td>17</td>\n",
       "      <td>68.0</td>\n",
       "      <td>527</td>\n",
       "      <td>27</td>\n",
       "      <td>40/5</td>\n",
       "      <td>19.51</td>\n",
       "      <td>7.75</td>\n",
       "      <td>15.11</td>\n",
       "      <td>1</td>\n",
       "      <td>1</td>\n",
       "    </tr>\n",
       "    <tr>\n",
       "      <th>1</th>\n",
       "      <td>2</td>\n",
       "      <td>Wanindu Hasaranga</td>\n",
       "      <td>16</td>\n",
       "      <td>16</td>\n",
       "      <td>57.0</td>\n",
       "      <td>430</td>\n",
       "      <td>26</td>\n",
       "      <td>18/5</td>\n",
       "      <td>16.53</td>\n",
       "      <td>7.54</td>\n",
       "      <td>13.15</td>\n",
       "      <td>1</td>\n",
       "      <td>1</td>\n",
       "    </tr>\n",
       "    <tr>\n",
       "      <th>2</th>\n",
       "      <td>3</td>\n",
       "      <td>Kagiso Rabada</td>\n",
       "      <td>13</td>\n",
       "      <td>13</td>\n",
       "      <td>48.0</td>\n",
       "      <td>406</td>\n",
       "      <td>23</td>\n",
       "      <td>33/4</td>\n",
       "      <td>17.65</td>\n",
       "      <td>8.45</td>\n",
       "      <td>12.52</td>\n",
       "      <td>2</td>\n",
       "      <td>0</td>\n",
       "    </tr>\n",
       "    <tr>\n",
       "      <th>3</th>\n",
       "      <td>4</td>\n",
       "      <td>Umran Malik</td>\n",
       "      <td>14</td>\n",
       "      <td>14</td>\n",
       "      <td>49.1</td>\n",
       "      <td>444</td>\n",
       "      <td>22</td>\n",
       "      <td>25/5</td>\n",
       "      <td>20.18</td>\n",
       "      <td>9.03</td>\n",
       "      <td>13.40</td>\n",
       "      <td>1</td>\n",
       "      <td>1</td>\n",
       "    </tr>\n",
       "    <tr>\n",
       "      <th>4</th>\n",
       "      <td>5</td>\n",
       "      <td>Kuldeep Yadav</td>\n",
       "      <td>14</td>\n",
       "      <td>14</td>\n",
       "      <td>49.4</td>\n",
       "      <td>419</td>\n",
       "      <td>21</td>\n",
       "      <td>14/4</td>\n",
       "      <td>19.95</td>\n",
       "      <td>8.43</td>\n",
       "      <td>14.19</td>\n",
       "      <td>2</td>\n",
       "      <td>0</td>\n",
       "    </tr>\n",
       "  </tbody>\n",
       "</table>\n",
       "</div>"
      ],
      "text/plain": [
       "   POS             Player  Mat  Inns    Ov  Runs  Wkts   BBI    Avg  Econ  \\\n",
       "0    1   Yuzvendra Chahal   17    17  68.0   527    27  40/5  19.51  7.75   \n",
       "1    2  Wanindu Hasaranga   16    16  57.0   430    26  18/5  16.53  7.54   \n",
       "2    3      Kagiso Rabada   13    13  48.0   406    23  33/4  17.65  8.45   \n",
       "3    4        Umran Malik   14    14  49.1   444    22  25/5  20.18  9.03   \n",
       "4    5      Kuldeep Yadav   14    14  49.4   419    21  14/4  19.95  8.43   \n",
       "\n",
       "      SR  4w  5w  \n",
       "0  15.11   1   1  \n",
       "1  13.15   1   1  \n",
       "2  12.52   2   0  \n",
       "3  13.40   1   1  \n",
       "4  14.19   2   0  "
      ]
     },
     "execution_count": 6,
     "metadata": {},
     "output_type": "execute_result"
    }
   ],
   "source": [
    "bowling_2022.head()"
   ]
  },
  {
   "cell_type": "markdown",
   "id": "c14bafa5",
   "metadata": {},
   "source": [
    "### 2a. Info function analysis\n",
    "Info function will give us details on whether any fields contain null values and after running the function on all dataframes, there doesn't seem to be any null values. This is very good."
   ]
  },
  {
   "cell_type": "code",
   "execution_count": 7,
   "id": "9c66ed09",
   "metadata": {},
   "outputs": [
    {
     "name": "stdout",
     "output_type": "stream",
     "text": [
      "<class 'pandas.core.frame.DataFrame'>\n",
      "RangeIndex: 162 entries, 0 to 161\n",
      "Data columns (total 14 columns):\n",
      " #   Column  Non-Null Count  Dtype  \n",
      "---  ------  --------------  -----  \n",
      " 0   POS     162 non-null    int64  \n",
      " 1   Player  162 non-null    object \n",
      " 2   Mat     162 non-null    int64  \n",
      " 3   Inns    162 non-null    int64  \n",
      " 4   NO      162 non-null    int64  \n",
      " 5   Runs    162 non-null    int64  \n",
      " 6   HS      162 non-null    object \n",
      " 7   Avg     162 non-null    object \n",
      " 8   BF      162 non-null    int64  \n",
      " 9   SR      162 non-null    float64\n",
      " 10  100     162 non-null    int64  \n",
      " 11  50      162 non-null    int64  \n",
      " 12  4s      162 non-null    int64  \n",
      " 13  6s      162 non-null    int64  \n",
      "dtypes: float64(1), int64(10), object(3)\n",
      "memory usage: 17.8+ KB\n"
     ]
    }
   ],
   "source": [
    "batting_2022.info()"
   ]
  },
  {
   "cell_type": "code",
   "execution_count": 8,
   "id": "3ce76c16",
   "metadata": {},
   "outputs": [
    {
     "name": "stdout",
     "output_type": "stream",
     "text": [
      "<class 'pandas.core.frame.DataFrame'>\n",
      "RangeIndex: 103 entries, 0 to 102\n",
      "Data columns (total 13 columns):\n",
      " #   Column  Non-Null Count  Dtype  \n",
      "---  ------  --------------  -----  \n",
      " 0   POS     103 non-null    int64  \n",
      " 1   Player  103 non-null    object \n",
      " 2   Mat     103 non-null    int64  \n",
      " 3   Inns    103 non-null    int64  \n",
      " 4   Ov      103 non-null    float64\n",
      " 5   Runs    103 non-null    int64  \n",
      " 6   Wkts    103 non-null    int64  \n",
      " 7   BBI     103 non-null    object \n",
      " 8   Avg     103 non-null    float64\n",
      " 9   Econ    103 non-null    float64\n",
      " 10  SR      103 non-null    float64\n",
      " 11  4w      103 non-null    int64  \n",
      " 12  5w      103 non-null    int64  \n",
      "dtypes: float64(4), int64(7), object(2)\n",
      "memory usage: 10.6+ KB\n"
     ]
    }
   ],
   "source": [
    "bowling_2022.info()"
   ]
  },
  {
   "cell_type": "markdown",
   "id": "1b6d0b68",
   "metadata": {},
   "source": [
    "### 3. Merging the dataframes\n",
    "Before performing analysis on the data, I think it is best to merge the batting and bowling dataframes into 1 each to better represent a player's performance over the course of the years."
   ]
  },
  {
   "cell_type": "markdown",
   "id": "bf9d5529",
   "metadata": {},
   "source": [
    "### 3a. Merging batting data"
   ]
  },
  {
   "cell_type": "code",
   "execution_count": 9,
   "id": "f9c18dd9",
   "metadata": {},
   "outputs": [
    {
     "name": "stdout",
     "output_type": "stream",
     "text": [
      "batting_data_merged.csv was written to successfully!\n"
     ]
    }
   ],
   "source": [
    "# Merge year 2016 and 2017\n",
    "batting_data_2016_2017_merged = batting_2016.merge(batting_2017, how='outer', on='Player', suffixes=('_2016', '_2017'))\n",
    "# Merge year 2018 and 2019\n",
    "batting_data_2018_2019_merged = batting_2018.merge(batting_2019, how='outer', on='Player', suffixes=('_2018', '_2019'))\n",
    "# Merge year 2016, 2017, 2018, and 2019\n",
    "batting_data_2016_2019_merged = batting_data_2016_2017_merged.merge(batting_data_2018_2019_merged, how='outer', on='Player')\n",
    "\n",
    "# Merge year 2020 and 2021\n",
    "batting_data_2020_2021_merged = batting_2020.merge(batting_2021, how='outer', on='Player', suffixes=('_2020', '_2021'))\n",
    "# Add suffix to 2022 before merging it\n",
    "batting_2022 = batting_2022.add_suffix('_2022')\n",
    "batting_2022 = batting_2022.rename(columns={\"Player_2022\": \"Player\"})\n",
    "# Merge year 2020, 2021, and 2022\n",
    "batting_data_2020_2022_merged = batting_data_2020_2021_merged.merge(batting_2022, how='outer', on='Player')\n",
    "\n",
    "# Merge all dataframes together essentially\n",
    "batting_data = batting_data_2016_2019_merged.merge(batting_data_2020_2022_merged, how='outer', on='Player')\n",
    "# Calling function to write a csv file to our output folder\n",
    "write_csv_data(\"Outputs\", \"batting_data_merged.csv\", batting_data)"
   ]
  },
  {
   "cell_type": "markdown",
   "id": "390ff092",
   "metadata": {},
   "source": [
    "### 3b. Merging bowling data"
   ]
  },
  {
   "cell_type": "code",
   "execution_count": 10,
   "id": "528a4a93",
   "metadata": {},
   "outputs": [
    {
     "name": "stdout",
     "output_type": "stream",
     "text": [
      "bowling_data_merged.csv was written to successfully!\n"
     ]
    }
   ],
   "source": [
    "# Merge year 2016 and 2017\n",
    "bowling_data_2016_2017_merged = bowling_2016.merge(bowling_2017, how='outer', on='Player', suffixes=('_2016', '_2017'))\n",
    "# Merge year 2018 and 2019\n",
    "bowling_data_2018_2019_merged = bowling_2018.merge(bowling_2019, how='outer', on='Player', suffixes=('_2018', '_2019'))\n",
    "# Merge year 2016, 2017, 2018, and 2019\n",
    "bowling_data_2016_2019_merged = bowling_data_2016_2017_merged.merge(bowling_data_2018_2019_merged, how='outer', on='Player')\n",
    "\n",
    "# Merge year 2020 and 2021\n",
    "bowling_data_2020_2021_merged = bowling_2020.merge(bowling_2021, how='outer', on='Player', suffixes=('_2020', '_2021'))\n",
    "# Add suffix to 2022 before merging it\n",
    "bowling_2022 = bowling_2022.add_suffix('_2022')\n",
    "bowling_2022 = bowling_2022.rename(columns={\"Player_2022\": \"Player\"})\n",
    "# Merge year 2020, 2021, and 2022\n",
    "bowling_data_2020_2022_merged = bowling_data_2020_2021_merged.merge(bowling_2022, how='outer', on='Player')\n",
    "\n",
    "# Merge all dataframes together essentially\n",
    "bowling_data = bowling_data_2016_2019_merged.merge(bowling_data_2020_2022_merged, how='outer', on='Player')\n",
    "# Calling function to write a csv file to our output folder\n",
    "write_csv_data(\"Outputs\", \"bowling_data_merged.csv\", bowling_data)"
   ]
  },
  {
   "cell_type": "markdown",
   "id": "2324ca2d",
   "metadata": {},
   "source": [
    "### 3a. Dropping unneeded columns\n",
    "For the batting data, we do not need the POS field since merging the data will cause duplicates in this field. For bowling we do not need POS and Best Bowling Innings since the date value isn't relevant anymore."
   ]
  },
  {
   "cell_type": "code",
   "execution_count": 11,
   "id": "9f714550",
   "metadata": {},
   "outputs": [
    {
     "name": "stdout",
     "output_type": "stream",
     "text": [
      "batting_data_dropped_unneeded_columns.csv was written to successfully!\n"
     ]
    }
   ],
   "source": [
    "batting_data.drop(['POS_2016', 'POS_2017', 'POS_2018', 'POS_2019', 'POS_2020', 'POS_2021', 'POS_2022'], axis=1, inplace=True)\n",
    "\n",
    "# Calling function to write a csv file to our output folder\n",
    "write_csv_data(\"Outputs\", \"batting_data_dropped_unneeded_columns.csv\", batting_data)"
   ]
  },
  {
   "cell_type": "code",
   "execution_count": 12,
   "id": "3e4fced8",
   "metadata": {},
   "outputs": [
    {
     "name": "stdout",
     "output_type": "stream",
     "text": [
      "bowling_data_dropped_unneeded_columns.csv was written to successfully!\n"
     ]
    }
   ],
   "source": [
    "bowling_data.drop(['POS_2016', 'POS_2017', 'POS_2018', 'POS_2019', 'POS_2020', 'POS_2021', 'POS_2022'], axis=1, inplace=True)\n",
    "bowling_data.drop(['BBI_2016', 'BBI_2017', 'BBI_2018', 'BBI_2019', 'BBI_2020', 'BBI_2021', 'BBI_2022'], axis=1, inplace=True)\n",
    "\n",
    "# Calling function to write a csv file to our output folder\n",
    "write_csv_data(\"Outputs\", \"bowling_data_dropped_unneeded_columns.csv\", bowling_data)"
   ]
  },
  {
   "cell_type": "markdown",
   "id": "415247d5",
   "metadata": {},
   "source": [
    "### 4. Extracting more detailed information about each dataset\n",
    "We want to get a better feel for the data so we will use the describe method and info method again."
   ]
  },
  {
   "cell_type": "code",
   "execution_count": 13,
   "id": "ae901bc2",
   "metadata": {},
   "outputs": [
    {
     "data": {
      "text/html": [
       "<div>\n",
       "<style scoped>\n",
       "    .dataframe tbody tr th:only-of-type {\n",
       "        vertical-align: middle;\n",
       "    }\n",
       "\n",
       "    .dataframe tbody tr th {\n",
       "        vertical-align: top;\n",
       "    }\n",
       "\n",
       "    .dataframe thead th {\n",
       "        text-align: right;\n",
       "    }\n",
       "</style>\n",
       "<table border=\"1\" class=\"dataframe\">\n",
       "  <thead>\n",
       "    <tr style=\"text-align: right;\">\n",
       "      <th></th>\n",
       "      <th>Mat_2016</th>\n",
       "      <th>Inns_2016</th>\n",
       "      <th>NO_2016</th>\n",
       "      <th>Runs_2016</th>\n",
       "      <th>Avg_2016</th>\n",
       "      <th>BF_2016</th>\n",
       "      <th>SR_2016</th>\n",
       "      <th>100_2016</th>\n",
       "      <th>50_2016</th>\n",
       "      <th>4s_2016</th>\n",
       "      <th>...</th>\n",
       "      <th>Mat_2022</th>\n",
       "      <th>Inns_2022</th>\n",
       "      <th>NO_2022</th>\n",
       "      <th>Runs_2022</th>\n",
       "      <th>BF_2022</th>\n",
       "      <th>SR_2022</th>\n",
       "      <th>100_2022</th>\n",
       "      <th>50_2022</th>\n",
       "      <th>4s_2022</th>\n",
       "      <th>6s_2022</th>\n",
       "    </tr>\n",
       "  </thead>\n",
       "  <tbody>\n",
       "    <tr>\n",
       "      <th>count</th>\n",
       "      <td>136.000000</td>\n",
       "      <td>136.000000</td>\n",
       "      <td>136.000000</td>\n",
       "      <td>136.000000</td>\n",
       "      <td>136.000000</td>\n",
       "      <td>136.000000</td>\n",
       "      <td>136.000000</td>\n",
       "      <td>136.000000</td>\n",
       "      <td>136.000000</td>\n",
       "      <td>136.000000</td>\n",
       "      <td>...</td>\n",
       "      <td>162.000000</td>\n",
       "      <td>162.000000</td>\n",
       "      <td>162.000000</td>\n",
       "      <td>162.000000</td>\n",
       "      <td>162.000000</td>\n",
       "      <td>162.000000</td>\n",
       "      <td>162.000000</td>\n",
       "      <td>162.000000</td>\n",
       "      <td>162.000000</td>\n",
       "      <td>162.000000</td>\n",
       "    </tr>\n",
       "    <tr>\n",
       "      <th>mean</th>\n",
       "      <td>8.970588</td>\n",
       "      <td>6.463235</td>\n",
       "      <td>1.573529</td>\n",
       "      <td>132.073529</td>\n",
       "      <td>18.716691</td>\n",
       "      <td>100.500000</td>\n",
       "      <td>115.034118</td>\n",
       "      <td>0.051471</td>\n",
       "      <td>0.808824</td>\n",
       "      <td>12.000000</td>\n",
       "      <td>...</td>\n",
       "      <td>9.160494</td>\n",
       "      <td>7.141975</td>\n",
       "      <td>1.586420</td>\n",
       "      <td>142.296296</td>\n",
       "      <td>106.061728</td>\n",
       "      <td>120.406235</td>\n",
       "      <td>0.049383</td>\n",
       "      <td>0.679012</td>\n",
       "      <td>12.450617</td>\n",
       "      <td>6.555556</td>\n",
       "    </tr>\n",
       "    <tr>\n",
       "      <th>std</th>\n",
       "      <td>4.877676</td>\n",
       "      <td>4.854792</td>\n",
       "      <td>1.533007</td>\n",
       "      <td>170.831068</td>\n",
       "      <td>15.969887</td>\n",
       "      <td>121.995264</td>\n",
       "      <td>45.284237</td>\n",
       "      <td>0.371580</td>\n",
       "      <td>1.621680</td>\n",
       "      <td>17.081504</td>\n",
       "      <td>...</td>\n",
       "      <td>5.047493</td>\n",
       "      <td>4.816982</td>\n",
       "      <td>1.819989</td>\n",
       "      <td>161.252161</td>\n",
       "      <td>114.571234</td>\n",
       "      <td>45.192799</td>\n",
       "      <td>0.366322</td>\n",
       "      <td>1.172428</td>\n",
       "      <td>15.314529</td>\n",
       "      <td>8.070343</td>\n",
       "    </tr>\n",
       "    <tr>\n",
       "      <th>min</th>\n",
       "      <td>1.000000</td>\n",
       "      <td>1.000000</td>\n",
       "      <td>0.000000</td>\n",
       "      <td>0.000000</td>\n",
       "      <td>0.000000</td>\n",
       "      <td>1.000000</td>\n",
       "      <td>0.000000</td>\n",
       "      <td>0.000000</td>\n",
       "      <td>0.000000</td>\n",
       "      <td>0.000000</td>\n",
       "      <td>...</td>\n",
       "      <td>1.000000</td>\n",
       "      <td>1.000000</td>\n",
       "      <td>0.000000</td>\n",
       "      <td>1.000000</td>\n",
       "      <td>1.000000</td>\n",
       "      <td>16.660000</td>\n",
       "      <td>0.000000</td>\n",
       "      <td>0.000000</td>\n",
       "      <td>0.000000</td>\n",
       "      <td>0.000000</td>\n",
       "    </tr>\n",
       "    <tr>\n",
       "      <th>25%</th>\n",
       "      <td>4.000000</td>\n",
       "      <td>2.000000</td>\n",
       "      <td>0.000000</td>\n",
       "      <td>12.500000</td>\n",
       "      <td>6.210000</td>\n",
       "      <td>13.000000</td>\n",
       "      <td>100.000000</td>\n",
       "      <td>0.000000</td>\n",
       "      <td>0.000000</td>\n",
       "      <td>1.000000</td>\n",
       "      <td>...</td>\n",
       "      <td>5.000000</td>\n",
       "      <td>3.000000</td>\n",
       "      <td>0.000000</td>\n",
       "      <td>14.500000</td>\n",
       "      <td>14.000000</td>\n",
       "      <td>94.082500</td>\n",
       "      <td>0.000000</td>\n",
       "      <td>0.000000</td>\n",
       "      <td>1.000000</td>\n",
       "      <td>0.000000</td>\n",
       "    </tr>\n",
       "    <tr>\n",
       "      <th>50%</th>\n",
       "      <td>9.000000</td>\n",
       "      <td>5.000000</td>\n",
       "      <td>1.000000</td>\n",
       "      <td>57.000000</td>\n",
       "      <td>16.900000</td>\n",
       "      <td>40.500000</td>\n",
       "      <td>120.645000</td>\n",
       "      <td>0.000000</td>\n",
       "      <td>0.000000</td>\n",
       "      <td>4.000000</td>\n",
       "      <td>...</td>\n",
       "      <td>9.500000</td>\n",
       "      <td>7.000000</td>\n",
       "      <td>1.000000</td>\n",
       "      <td>65.000000</td>\n",
       "      <td>47.500000</td>\n",
       "      <td>123.620000</td>\n",
       "      <td>0.000000</td>\n",
       "      <td>0.000000</td>\n",
       "      <td>5.000000</td>\n",
       "      <td>3.000000</td>\n",
       "    </tr>\n",
       "    <tr>\n",
       "      <th>75%</th>\n",
       "      <td>14.000000</td>\n",
       "      <td>10.250000</td>\n",
       "      <td>3.000000</td>\n",
       "      <td>188.750000</td>\n",
       "      <td>26.550000</td>\n",
       "      <td>143.250000</td>\n",
       "      <td>138.600000</td>\n",
       "      <td>0.000000</td>\n",
       "      <td>1.000000</td>\n",
       "      <td>17.000000</td>\n",
       "      <td>...</td>\n",
       "      <td>14.000000</td>\n",
       "      <td>11.000000</td>\n",
       "      <td>2.000000</td>\n",
       "      <td>241.500000</td>\n",
       "      <td>176.500000</td>\n",
       "      <td>144.247500</td>\n",
       "      <td>0.000000</td>\n",
       "      <td>1.000000</td>\n",
       "      <td>21.000000</td>\n",
       "      <td>11.000000</td>\n",
       "    </tr>\n",
       "    <tr>\n",
       "      <th>max</th>\n",
       "      <td>17.000000</td>\n",
       "      <td>17.000000</td>\n",
       "      <td>8.000000</td>\n",
       "      <td>973.000000</td>\n",
       "      <td>81.080000</td>\n",
       "      <td>640.000000</td>\n",
       "      <td>233.330000</td>\n",
       "      <td>4.000000</td>\n",
       "      <td>9.000000</td>\n",
       "      <td>88.000000</td>\n",
       "      <td>...</td>\n",
       "      <td>17.000000</td>\n",
       "      <td>17.000000</td>\n",
       "      <td>10.000000</td>\n",
       "      <td>863.000000</td>\n",
       "      <td>579.000000</td>\n",
       "      <td>400.000000</td>\n",
       "      <td>4.000000</td>\n",
       "      <td>5.000000</td>\n",
       "      <td>83.000000</td>\n",
       "      <td>45.000000</td>\n",
       "    </tr>\n",
       "  </tbody>\n",
       "</table>\n",
       "<p>8 rows × 76 columns</p>\n",
       "</div>"
      ],
      "text/plain": [
       "         Mat_2016   Inns_2016     NO_2016   Runs_2016    Avg_2016     BF_2016  \\\n",
       "count  136.000000  136.000000  136.000000  136.000000  136.000000  136.000000   \n",
       "mean     8.970588    6.463235    1.573529  132.073529   18.716691  100.500000   \n",
       "std      4.877676    4.854792    1.533007  170.831068   15.969887  121.995264   \n",
       "min      1.000000    1.000000    0.000000    0.000000    0.000000    1.000000   \n",
       "25%      4.000000    2.000000    0.000000   12.500000    6.210000   13.000000   \n",
       "50%      9.000000    5.000000    1.000000   57.000000   16.900000   40.500000   \n",
       "75%     14.000000   10.250000    3.000000  188.750000   26.550000  143.250000   \n",
       "max     17.000000   17.000000    8.000000  973.000000   81.080000  640.000000   \n",
       "\n",
       "          SR_2016    100_2016     50_2016     4s_2016  ...    Mat_2022  \\\n",
       "count  136.000000  136.000000  136.000000  136.000000  ...  162.000000   \n",
       "mean   115.034118    0.051471    0.808824   12.000000  ...    9.160494   \n",
       "std     45.284237    0.371580    1.621680   17.081504  ...    5.047493   \n",
       "min      0.000000    0.000000    0.000000    0.000000  ...    1.000000   \n",
       "25%    100.000000    0.000000    0.000000    1.000000  ...    5.000000   \n",
       "50%    120.645000    0.000000    0.000000    4.000000  ...    9.500000   \n",
       "75%    138.600000    0.000000    1.000000   17.000000  ...   14.000000   \n",
       "max    233.330000    4.000000    9.000000   88.000000  ...   17.000000   \n",
       "\n",
       "        Inns_2022     NO_2022   Runs_2022     BF_2022     SR_2022    100_2022  \\\n",
       "count  162.000000  162.000000  162.000000  162.000000  162.000000  162.000000   \n",
       "mean     7.141975    1.586420  142.296296  106.061728  120.406235    0.049383   \n",
       "std      4.816982    1.819989  161.252161  114.571234   45.192799    0.366322   \n",
       "min      1.000000    0.000000    1.000000    1.000000   16.660000    0.000000   \n",
       "25%      3.000000    0.000000   14.500000   14.000000   94.082500    0.000000   \n",
       "50%      7.000000    1.000000   65.000000   47.500000  123.620000    0.000000   \n",
       "75%     11.000000    2.000000  241.500000  176.500000  144.247500    0.000000   \n",
       "max     17.000000   10.000000  863.000000  579.000000  400.000000    4.000000   \n",
       "\n",
       "          50_2022     4s_2022     6s_2022  \n",
       "count  162.000000  162.000000  162.000000  \n",
       "mean     0.679012   12.450617    6.555556  \n",
       "std      1.172428   15.314529    8.070343  \n",
       "min      0.000000    0.000000    0.000000  \n",
       "25%      0.000000    1.000000    0.000000  \n",
       "50%      0.000000    5.000000    3.000000  \n",
       "75%      1.000000   21.000000   11.000000  \n",
       "max      5.000000   83.000000   45.000000  \n",
       "\n",
       "[8 rows x 76 columns]"
      ]
     },
     "execution_count": 13,
     "metadata": {},
     "output_type": "execute_result"
    }
   ],
   "source": [
    "batting_data.describe()"
   ]
  },
  {
   "cell_type": "markdown",
   "id": "051572d3",
   "metadata": {},
   "source": [
    "Describe shows some basic statistics such as the average of all key statistics as well as the max for each field."
   ]
  },
  {
   "cell_type": "code",
   "execution_count": 14,
   "id": "c7aea8db",
   "metadata": {},
   "outputs": [
    {
     "data": {
      "text/html": [
       "<div>\n",
       "<style scoped>\n",
       "    .dataframe tbody tr th:only-of-type {\n",
       "        vertical-align: middle;\n",
       "    }\n",
       "\n",
       "    .dataframe tbody tr th {\n",
       "        vertical-align: top;\n",
       "    }\n",
       "\n",
       "    .dataframe thead th {\n",
       "        text-align: right;\n",
       "    }\n",
       "</style>\n",
       "<table border=\"1\" class=\"dataframe\">\n",
       "  <thead>\n",
       "    <tr style=\"text-align: right;\">\n",
       "      <th></th>\n",
       "      <th>Mat_2016</th>\n",
       "      <th>Inns_2016</th>\n",
       "      <th>Ov_2016</th>\n",
       "      <th>Runs_2016</th>\n",
       "      <th>Wkts_2016</th>\n",
       "      <th>Avg_2016</th>\n",
       "      <th>Econ_2016</th>\n",
       "      <th>SR_2016</th>\n",
       "      <th>4w_2016</th>\n",
       "      <th>5w_2016</th>\n",
       "      <th>...</th>\n",
       "      <th>Mat_2022</th>\n",
       "      <th>Inns_2022</th>\n",
       "      <th>Ov_2022</th>\n",
       "      <th>Runs_2022</th>\n",
       "      <th>Wkts_2022</th>\n",
       "      <th>Avg_2022</th>\n",
       "      <th>Econ_2022</th>\n",
       "      <th>SR_2022</th>\n",
       "      <th>4w_2022</th>\n",
       "      <th>5w_2022</th>\n",
       "    </tr>\n",
       "  </thead>\n",
       "  <tbody>\n",
       "    <tr>\n",
       "      <th>count</th>\n",
       "      <td>86.000000</td>\n",
       "      <td>86.000000</td>\n",
       "      <td>86.000000</td>\n",
       "      <td>86.000000</td>\n",
       "      <td>86.000000</td>\n",
       "      <td>86.000000</td>\n",
       "      <td>86.000000</td>\n",
       "      <td>86.000000</td>\n",
       "      <td>86.000000</td>\n",
       "      <td>86.000000</td>\n",
       "      <td>...</td>\n",
       "      <td>103.000000</td>\n",
       "      <td>103.000000</td>\n",
       "      <td>103.000000</td>\n",
       "      <td>103.000000</td>\n",
       "      <td>103.000000</td>\n",
       "      <td>103.000000</td>\n",
       "      <td>103.000000</td>\n",
       "      <td>103.000000</td>\n",
       "      <td>103.000000</td>\n",
       "      <td>103.000000</td>\n",
       "    </tr>\n",
       "    <tr>\n",
       "      <th>mean</th>\n",
       "      <td>8.639535</td>\n",
       "      <td>7.872093</td>\n",
       "      <td>25.174419</td>\n",
       "      <td>204.988372</td>\n",
       "      <td>6.872093</td>\n",
       "      <td>39.708837</td>\n",
       "      <td>8.266977</td>\n",
       "      <td>28.186860</td>\n",
       "      <td>0.151163</td>\n",
       "      <td>0.011628</td>\n",
       "      <td>...</td>\n",
       "      <td>8.815534</td>\n",
       "      <td>7.941748</td>\n",
       "      <td>27.166019</td>\n",
       "      <td>227.213592</td>\n",
       "      <td>8.242718</td>\n",
       "      <td>33.685437</td>\n",
       "      <td>8.821262</td>\n",
       "      <td>23.226117</td>\n",
       "      <td>0.203883</td>\n",
       "      <td>0.038835</td>\n",
       "    </tr>\n",
       "    <tr>\n",
       "      <th>std</th>\n",
       "      <td>4.591329</td>\n",
       "      <td>4.523914</td>\n",
       "      <td>16.698849</td>\n",
       "      <td>129.725275</td>\n",
       "      <td>5.523845</td>\n",
       "      <td>26.674725</td>\n",
       "      <td>1.286748</td>\n",
       "      <td>17.003731</td>\n",
       "      <td>0.360308</td>\n",
       "      <td>0.107833</td>\n",
       "      <td>...</td>\n",
       "      <td>4.872386</td>\n",
       "      <td>4.764709</td>\n",
       "      <td>18.447714</td>\n",
       "      <td>146.147498</td>\n",
       "      <td>6.484470</td>\n",
       "      <td>15.984617</td>\n",
       "      <td>1.698188</td>\n",
       "      <td>11.030324</td>\n",
       "      <td>0.450691</td>\n",
       "      <td>0.194146</td>\n",
       "    </tr>\n",
       "    <tr>\n",
       "      <th>min</th>\n",
       "      <td>1.000000</td>\n",
       "      <td>1.000000</td>\n",
       "      <td>1.000000</td>\n",
       "      <td>8.000000</td>\n",
       "      <td>1.000000</td>\n",
       "      <td>4.000000</td>\n",
       "      <td>4.800000</td>\n",
       "      <td>5.000000</td>\n",
       "      <td>0.000000</td>\n",
       "      <td>0.000000</td>\n",
       "      <td>...</td>\n",
       "      <td>1.000000</td>\n",
       "      <td>1.000000</td>\n",
       "      <td>0.300000</td>\n",
       "      <td>8.000000</td>\n",
       "      <td>1.000000</td>\n",
       "      <td>5.500000</td>\n",
       "      <td>5.500000</td>\n",
       "      <td>3.000000</td>\n",
       "      <td>0.000000</td>\n",
       "      <td>0.000000</td>\n",
       "    </tr>\n",
       "    <tr>\n",
       "      <th>25%</th>\n",
       "      <td>4.000000</td>\n",
       "      <td>4.000000</td>\n",
       "      <td>12.250000</td>\n",
       "      <td>103.750000</td>\n",
       "      <td>2.000000</td>\n",
       "      <td>24.287500</td>\n",
       "      <td>7.577500</td>\n",
       "      <td>18.915000</td>\n",
       "      <td>0.000000</td>\n",
       "      <td>0.000000</td>\n",
       "      <td>...</td>\n",
       "      <td>5.000000</td>\n",
       "      <td>4.000000</td>\n",
       "      <td>11.500000</td>\n",
       "      <td>100.500000</td>\n",
       "      <td>3.000000</td>\n",
       "      <td>21.705000</td>\n",
       "      <td>7.660000</td>\n",
       "      <td>15.740000</td>\n",
       "      <td>0.000000</td>\n",
       "      <td>0.000000</td>\n",
       "    </tr>\n",
       "    <tr>\n",
       "      <th>50%</th>\n",
       "      <td>8.000000</td>\n",
       "      <td>7.000000</td>\n",
       "      <td>17.500000</td>\n",
       "      <td>172.000000</td>\n",
       "      <td>5.000000</td>\n",
       "      <td>32.165000</td>\n",
       "      <td>8.130000</td>\n",
       "      <td>23.000000</td>\n",
       "      <td>0.000000</td>\n",
       "      <td>0.000000</td>\n",
       "      <td>...</td>\n",
       "      <td>9.000000</td>\n",
       "      <td>7.000000</td>\n",
       "      <td>23.000000</td>\n",
       "      <td>210.000000</td>\n",
       "      <td>6.000000</td>\n",
       "      <td>29.620000</td>\n",
       "      <td>8.530000</td>\n",
       "      <td>20.150000</td>\n",
       "      <td>0.000000</td>\n",
       "      <td>0.000000</td>\n",
       "    </tr>\n",
       "    <tr>\n",
       "      <th>75%</th>\n",
       "      <td>12.000000</td>\n",
       "      <td>11.000000</td>\n",
       "      <td>39.000000</td>\n",
       "      <td>307.000000</td>\n",
       "      <td>10.750000</td>\n",
       "      <td>44.300000</td>\n",
       "      <td>8.982500</td>\n",
       "      <td>32.495000</td>\n",
       "      <td>0.000000</td>\n",
       "      <td>0.000000</td>\n",
       "      <td>...</td>\n",
       "      <td>13.000000</td>\n",
       "      <td>12.000000</td>\n",
       "      <td>43.000000</td>\n",
       "      <td>349.500000</td>\n",
       "      <td>12.500000</td>\n",
       "      <td>40.415000</td>\n",
       "      <td>9.655000</td>\n",
       "      <td>27.000000</td>\n",
       "      <td>0.000000</td>\n",
       "      <td>0.000000</td>\n",
       "    </tr>\n",
       "    <tr>\n",
       "      <th>max</th>\n",
       "      <td>17.000000</td>\n",
       "      <td>17.000000</td>\n",
       "      <td>66.000000</td>\n",
       "      <td>494.000000</td>\n",
       "      <td>23.000000</td>\n",
       "      <td>147.000000</td>\n",
       "      <td>13.200000</td>\n",
       "      <td>102.000000</td>\n",
       "      <td>1.000000</td>\n",
       "      <td>1.000000</td>\n",
       "      <td>...</td>\n",
       "      <td>17.000000</td>\n",
       "      <td>17.000000</td>\n",
       "      <td>68.000000</td>\n",
       "      <td>551.000000</td>\n",
       "      <td>27.000000</td>\n",
       "      <td>84.000000</td>\n",
       "      <td>16.000000</td>\n",
       "      <td>66.000000</td>\n",
       "      <td>2.000000</td>\n",
       "      <td>1.000000</td>\n",
       "    </tr>\n",
       "  </tbody>\n",
       "</table>\n",
       "<p>8 rows × 70 columns</p>\n",
       "</div>"
      ],
      "text/plain": [
       "        Mat_2016  Inns_2016    Ov_2016   Runs_2016  Wkts_2016    Avg_2016  \\\n",
       "count  86.000000  86.000000  86.000000   86.000000  86.000000   86.000000   \n",
       "mean    8.639535   7.872093  25.174419  204.988372   6.872093   39.708837   \n",
       "std     4.591329   4.523914  16.698849  129.725275   5.523845   26.674725   \n",
       "min     1.000000   1.000000   1.000000    8.000000   1.000000    4.000000   \n",
       "25%     4.000000   4.000000  12.250000  103.750000   2.000000   24.287500   \n",
       "50%     8.000000   7.000000  17.500000  172.000000   5.000000   32.165000   \n",
       "75%    12.000000  11.000000  39.000000  307.000000  10.750000   44.300000   \n",
       "max    17.000000  17.000000  66.000000  494.000000  23.000000  147.000000   \n",
       "\n",
       "       Econ_2016     SR_2016    4w_2016    5w_2016  ...    Mat_2022  \\\n",
       "count  86.000000   86.000000  86.000000  86.000000  ...  103.000000   \n",
       "mean    8.266977   28.186860   0.151163   0.011628  ...    8.815534   \n",
       "std     1.286748   17.003731   0.360308   0.107833  ...    4.872386   \n",
       "min     4.800000    5.000000   0.000000   0.000000  ...    1.000000   \n",
       "25%     7.577500   18.915000   0.000000   0.000000  ...    5.000000   \n",
       "50%     8.130000   23.000000   0.000000   0.000000  ...    9.000000   \n",
       "75%     8.982500   32.495000   0.000000   0.000000  ...   13.000000   \n",
       "max    13.200000  102.000000   1.000000   1.000000  ...   17.000000   \n",
       "\n",
       "        Inns_2022     Ov_2022   Runs_2022   Wkts_2022    Avg_2022   Econ_2022  \\\n",
       "count  103.000000  103.000000  103.000000  103.000000  103.000000  103.000000   \n",
       "mean     7.941748   27.166019  227.213592    8.242718   33.685437    8.821262   \n",
       "std      4.764709   18.447714  146.147498    6.484470   15.984617    1.698188   \n",
       "min      1.000000    0.300000    8.000000    1.000000    5.500000    5.500000   \n",
       "25%      4.000000   11.500000  100.500000    3.000000   21.705000    7.660000   \n",
       "50%      7.000000   23.000000  210.000000    6.000000   29.620000    8.530000   \n",
       "75%     12.000000   43.000000  349.500000   12.500000   40.415000    9.655000   \n",
       "max     17.000000   68.000000  551.000000   27.000000   84.000000   16.000000   \n",
       "\n",
       "          SR_2022     4w_2022     5w_2022  \n",
       "count  103.000000  103.000000  103.000000  \n",
       "mean    23.226117    0.203883    0.038835  \n",
       "std     11.030324    0.450691    0.194146  \n",
       "min      3.000000    0.000000    0.000000  \n",
       "25%     15.740000    0.000000    0.000000  \n",
       "50%     20.150000    0.000000    0.000000  \n",
       "75%     27.000000    0.000000    0.000000  \n",
       "max     66.000000    2.000000    1.000000  \n",
       "\n",
       "[8 rows x 70 columns]"
      ]
     },
     "execution_count": 14,
     "metadata": {},
     "output_type": "execute_result"
    }
   ],
   "source": [
    "bowling_data.describe()"
   ]
  },
  {
   "cell_type": "markdown",
   "id": "cde6b398",
   "metadata": {},
   "source": [
    "We can use info again but with show_counts enabled in order to see how many null values are present. Batting contains about 200 values per statistic column with a null value so we can impute that with a 0. Also need to convert all High Scores to a float."
   ]
  },
  {
   "cell_type": "code",
   "execution_count": 15,
   "id": "f94e989a",
   "metadata": {},
   "outputs": [
    {
     "name": "stdout",
     "output_type": "stream",
     "text": [
      "<class 'pandas.core.frame.DataFrame'>\n",
      "Int64Index: 338 entries, 0 to 337\n",
      "Data columns (total 85 columns):\n",
      " #   Column     Non-Null Count  Dtype  \n",
      "---  ------     --------------  -----  \n",
      " 0   Player     338 non-null    object \n",
      " 1   Mat_2016   136 non-null    float64\n",
      " 2   Inns_2016  136 non-null    float64\n",
      " 3   NO_2016    136 non-null    float64\n",
      " 4   Runs_2016  136 non-null    float64\n",
      " 5   HS_2016    136 non-null    object \n",
      " 6   Avg_2016   136 non-null    float64\n",
      " 7   BF_2016    136 non-null    float64\n",
      " 8   SR_2016    136 non-null    float64\n",
      " 9   100_2016   136 non-null    float64\n",
      " 10  50_2016    136 non-null    float64\n",
      " 11  4s_2016    136 non-null    float64\n",
      " 12  6s_2016    136 non-null    float64\n",
      " 13  Mat_2017   143 non-null    float64\n",
      " 14  Inns_2017  143 non-null    float64\n",
      " 15  NO_2017    143 non-null    float64\n",
      " 16  Runs_2017  143 non-null    float64\n",
      " 17  HS_2017    143 non-null    object \n",
      " 18  Avg_2017   143 non-null    float64\n",
      " 19  BF_2017    143 non-null    float64\n",
      " 20  SR_2017    143 non-null    float64\n",
      " 21  100_2017   143 non-null    float64\n",
      " 22  50_2017    143 non-null    float64\n",
      " 23  4s_2017    143 non-null    float64\n",
      " 24  6s_2017    143 non-null    float64\n",
      " 25  Mat_2018   138 non-null    float64\n",
      " 26  Inns_2018  138 non-null    float64\n",
      " 27  NO_2018    138 non-null    float64\n",
      " 28  Runs_2018  138 non-null    float64\n",
      " 29  HS_2018    138 non-null    object \n",
      " 30  Avg_2018   138 non-null    float64\n",
      " 31  BF_2018    138 non-null    float64\n",
      " 32  SR_2018    138 non-null    float64\n",
      " 33  100_2018   138 non-null    float64\n",
      " 34  50_2018    138 non-null    float64\n",
      " 35  4s_2018    138 non-null    float64\n",
      " 36  6s_2018    138 non-null    float64\n",
      " 37  Mat_2019   144 non-null    float64\n",
      " 38  Inns_2019  144 non-null    float64\n",
      " 39  NO_2019    144 non-null    float64\n",
      " 40  Runs_2019  144 non-null    float64\n",
      " 41  HS_2019    144 non-null    object \n",
      " 42  Avg_2019   144 non-null    float64\n",
      " 43  BF_2019    144 non-null    float64\n",
      " 44  SR_2019    144 non-null    float64\n",
      " 45  100_2019   144 non-null    float64\n",
      " 46  50_2019    144 non-null    float64\n",
      " 47  4s_2019    144 non-null    float64\n",
      " 48  6s_2019    144 non-null    float64\n",
      " 49  Mat_2020   133 non-null    float64\n",
      " 50  Inns_2020  133 non-null    float64\n",
      " 51  NO_2020    133 non-null    float64\n",
      " 52  Runs_2020  133 non-null    float64\n",
      " 53  HS_2020    133 non-null    object \n",
      " 54  Avg_2020   133 non-null    float64\n",
      " 55  BF_2020    133 non-null    float64\n",
      " 56  SR_2020    133 non-null    float64\n",
      " 57  100_2020   133 non-null    float64\n",
      " 58  50_2020    133 non-null    float64\n",
      " 59  4s_2020    133 non-null    float64\n",
      " 60  6s_2020    133 non-null    float64\n",
      " 61  Mat_2021   149 non-null    float64\n",
      " 62  Inns_2021  149 non-null    float64\n",
      " 63  NO_2021    149 non-null    float64\n",
      " 64  Runs_2021  149 non-null    float64\n",
      " 65  HS_2021    149 non-null    object \n",
      " 66  Avg_2021   149 non-null    float64\n",
      " 67  BF_2021    149 non-null    float64\n",
      " 68  SR_2021    149 non-null    float64\n",
      " 69  100_2021   149 non-null    float64\n",
      " 70  50_2021    149 non-null    float64\n",
      " 71  4s_2021    149 non-null    float64\n",
      " 72  6s_2021    149 non-null    float64\n",
      " 73  Mat_2022   162 non-null    float64\n",
      " 74  Inns_2022  162 non-null    float64\n",
      " 75  NO_2022    162 non-null    float64\n",
      " 76  Runs_2022  162 non-null    float64\n",
      " 77  HS_2022    162 non-null    object \n",
      " 78  Avg_2022   162 non-null    object \n",
      " 79  BF_2022    162 non-null    float64\n",
      " 80  SR_2022    162 non-null    float64\n",
      " 81  100_2022   162 non-null    float64\n",
      " 82  50_2022    162 non-null    float64\n",
      " 83  4s_2022    162 non-null    float64\n",
      " 84  6s_2022    162 non-null    float64\n",
      "dtypes: float64(76), object(9)\n",
      "memory usage: 227.1+ KB\n"
     ]
    }
   ],
   "source": [
    "batting_data.info(show_counts=True)"
   ]
  },
  {
   "cell_type": "markdown",
   "id": "58419dbb",
   "metadata": {},
   "source": [
    "Bowling data does not have any issues with regards to data types but we need to fill the empty values with 0s."
   ]
  },
  {
   "cell_type": "code",
   "execution_count": 16,
   "id": "84af65db",
   "metadata": {},
   "outputs": [
    {
     "name": "stdout",
     "output_type": "stream",
     "text": [
      "<class 'pandas.core.frame.DataFrame'>\n",
      "Int64Index: 227 entries, 0 to 226\n",
      "Data columns (total 71 columns):\n",
      " #   Column     Non-Null Count  Dtype  \n",
      "---  ------     --------------  -----  \n",
      " 0   Player     227 non-null    object \n",
      " 1   Mat_2016   86 non-null     float64\n",
      " 2   Inns_2016  86 non-null     float64\n",
      " 3   Ov_2016    86 non-null     float64\n",
      " 4   Runs_2016  86 non-null     float64\n",
      " 5   Wkts_2016  86 non-null     float64\n",
      " 6   Avg_2016   86 non-null     float64\n",
      " 7   Econ_2016  86 non-null     float64\n",
      " 8   SR_2016    86 non-null     float64\n",
      " 9   4w_2016    86 non-null     float64\n",
      " 10  5w_2016    86 non-null     float64\n",
      " 11  Mat_2017   90 non-null     float64\n",
      " 12  Inns_2017  90 non-null     float64\n",
      " 13  Ov_2017    90 non-null     float64\n",
      " 14  Runs_2017  90 non-null     float64\n",
      " 15  Wkts_2017  90 non-null     float64\n",
      " 16  Avg_2017   90 non-null     float64\n",
      " 17  Econ_2017  90 non-null     float64\n",
      " 18  SR_2017    90 non-null     float64\n",
      " 19  4w_2017    90 non-null     float64\n",
      " 20  5w_2017    90 non-null     float64\n",
      " 21  Mat_2018   82 non-null     float64\n",
      " 22  Inns_2018  82 non-null     float64\n",
      " 23  Ov_2018    82 non-null     float64\n",
      " 24  Runs_2018  82 non-null     float64\n",
      " 25  Wkts_2018  82 non-null     float64\n",
      " 26  Avg_2018   82 non-null     float64\n",
      " 27  Econ_2018  82 non-null     float64\n",
      " 28  SR_2018    82 non-null     float64\n",
      " 29  4w_2018    82 non-null     float64\n",
      " 30  5w_2018    82 non-null     float64\n",
      " 31  Mat_2019   87 non-null     float64\n",
      " 32  Inns_2019  87 non-null     float64\n",
      " 33  Ov_2019    87 non-null     float64\n",
      " 34  Runs_2019  87 non-null     float64\n",
      " 35  Wkts_2019  87 non-null     float64\n",
      " 36  Avg_2019   87 non-null     float64\n",
      " 37  Econ_2019  87 non-null     float64\n",
      " 38  SR_2019    87 non-null     float64\n",
      " 39  4w_2019    87 non-null     float64\n",
      " 40  5w_2019    87 non-null     float64\n",
      " 41  Mat_2020   78 non-null     float64\n",
      " 42  Inns_2020  78 non-null     float64\n",
      " 43  Ov_2020    78 non-null     float64\n",
      " 44  Runs_2020  78 non-null     float64\n",
      " 45  Wkts_2020  78 non-null     float64\n",
      " 46  Avg_2020   78 non-null     float64\n",
      " 47  Econ_2020  78 non-null     float64\n",
      " 48  SR_2020    78 non-null     float64\n",
      " 49  4w_2020    78 non-null     float64\n",
      " 50  5w_2020    78 non-null     float64\n",
      " 51  Mat_2021   89 non-null     float64\n",
      " 52  Inns_2021  89 non-null     float64\n",
      " 53  Ov_2021    89 non-null     float64\n",
      " 54  Runs_2021  89 non-null     float64\n",
      " 55  Wkts_2021  89 non-null     float64\n",
      " 56  Avg_2021   89 non-null     float64\n",
      " 57  Econ_2021  89 non-null     float64\n",
      " 58  SR_2021    89 non-null     float64\n",
      " 59  4w_2021    89 non-null     float64\n",
      " 60  5w_2021    89 non-null     float64\n",
      " 61  Mat_2022   103 non-null    float64\n",
      " 62  Inns_2022  103 non-null    float64\n",
      " 63  Ov_2022    103 non-null    float64\n",
      " 64  Runs_2022  103 non-null    float64\n",
      " 65  Wkts_2022  103 non-null    float64\n",
      " 66  Avg_2022   103 non-null    float64\n",
      " 67  Econ_2022  103 non-null    float64\n",
      " 68  SR_2022    103 non-null    float64\n",
      " 69  4w_2022    103 non-null    float64\n",
      " 70  5w_2022    103 non-null    float64\n",
      "dtypes: float64(70), object(1)\n",
      "memory usage: 127.7+ KB\n"
     ]
    }
   ],
   "source": [
    "bowling_data.info(show_counts=True)"
   ]
  },
  {
   "cell_type": "markdown",
   "id": "9ec4fad5",
   "metadata": {},
   "source": [
    "### 5. Fix data type issues\n",
    "Need to convert all the object fields to float64 in batting data."
   ]
  },
  {
   "cell_type": "markdown",
   "id": "176c12e1",
   "metadata": {},
   "source": [
    "The reason High Scores are objects and not float64 is because they contain an * field which indicates whether the person was not out or not. Since we have a field already tracking not outs, then we simply need to remove all occurrences of * in the high score before converting to a float."
   ]
  },
  {
   "cell_type": "code",
   "execution_count": 17,
   "id": "a570f003",
   "metadata": {},
   "outputs": [
    {
     "name": "stdout",
     "output_type": "stream",
     "text": [
      "batting_data_fixed_data_type_mismatches.csv was written to successfully!\n"
     ]
    },
    {
     "name": "stderr",
     "output_type": "stream",
     "text": [
      "C:\\Users\\Razer\\AppData\\Local\\Temp\\ipykernel_18744\\3491426319.py:2: FutureWarning: The default value of regex will change from True to False in a future version. In addition, single character regular expressions will *not* be treated as literal strings when regex=True.\n",
      "  batting_data['HS_2016'] = batting_data['HS_2016'].str.replace(\"*\", \"\")\n",
      "C:\\Users\\Razer\\AppData\\Local\\Temp\\ipykernel_18744\\3491426319.py:3: FutureWarning: The default value of regex will change from True to False in a future version. In addition, single character regular expressions will *not* be treated as literal strings when regex=True.\n",
      "  batting_data['HS_2017'] = batting_data['HS_2017'].str.replace(\"*\", \"\")\n",
      "C:\\Users\\Razer\\AppData\\Local\\Temp\\ipykernel_18744\\3491426319.py:4: FutureWarning: The default value of regex will change from True to False in a future version. In addition, single character regular expressions will *not* be treated as literal strings when regex=True.\n",
      "  batting_data['HS_2018'] = batting_data['HS_2018'].str.replace(\"*\", \"\")\n",
      "C:\\Users\\Razer\\AppData\\Local\\Temp\\ipykernel_18744\\3491426319.py:5: FutureWarning: The default value of regex will change from True to False in a future version. In addition, single character regular expressions will *not* be treated as literal strings when regex=True.\n",
      "  batting_data['HS_2019'] = batting_data['HS_2019'].str.replace(\"*\", \"\")\n",
      "C:\\Users\\Razer\\AppData\\Local\\Temp\\ipykernel_18744\\3491426319.py:6: FutureWarning: The default value of regex will change from True to False in a future version. In addition, single character regular expressions will *not* be treated as literal strings when regex=True.\n",
      "  batting_data['HS_2020'] = batting_data['HS_2020'].str.replace(\"*\", \"\")\n",
      "C:\\Users\\Razer\\AppData\\Local\\Temp\\ipykernel_18744\\3491426319.py:7: FutureWarning: The default value of regex will change from True to False in a future version. In addition, single character regular expressions will *not* be treated as literal strings when regex=True.\n",
      "  batting_data['HS_2021'] = batting_data['HS_2021'].str.replace(\"*\", \"\")\n",
      "C:\\Users\\Razer\\AppData\\Local\\Temp\\ipykernel_18744\\3491426319.py:8: FutureWarning: The default value of regex will change from True to False in a future version. In addition, single character regular expressions will *not* be treated as literal strings when regex=True.\n",
      "  batting_data['HS_2022'] = batting_data['HS_2022'].str.replace(\"*\", \"\")\n"
     ]
    }
   ],
   "source": [
    "# Remove all occurrences of * in the high score\n",
    "batting_data['HS_2016'] = batting_data['HS_2016'].str.replace(\"*\", \"\")\n",
    "batting_data['HS_2017'] = batting_data['HS_2017'].str.replace(\"*\", \"\")\n",
    "batting_data['HS_2018'] = batting_data['HS_2018'].str.replace(\"*\", \"\")\n",
    "batting_data['HS_2019'] = batting_data['HS_2019'].str.replace(\"*\", \"\")\n",
    "batting_data['HS_2020'] = batting_data['HS_2020'].str.replace(\"*\", \"\")\n",
    "batting_data['HS_2021'] = batting_data['HS_2021'].str.replace(\"*\", \"\")\n",
    "batting_data['HS_2022'] = batting_data['HS_2022'].str.replace(\"*\", \"\")\n",
    "batting_data['Avg_2022'] = batting_data['Avg_2022'].str.replace(\"-\", \"0\")\n",
    "batting_data['Avg_2022'] = batting_data['Avg_2022'].str.strip(\"\")\n",
    "\n",
    "\n",
    "# Convert to a float\n",
    "batting_data['HS_2016'] = batting_data['HS_2016'].astype('float64')\n",
    "batting_data['HS_2017'] = batting_data['HS_2017'].astype('float64')\n",
    "batting_data['HS_2018'] = batting_data['HS_2018'].astype('float64')\n",
    "batting_data['HS_2019'] = batting_data['HS_2019'].astype('float64')\n",
    "batting_data['HS_2020'] = batting_data['HS_2020'].astype('float64')\n",
    "batting_data['HS_2021'] = batting_data['HS_2021'].astype('float64')\n",
    "batting_data['HS_2022'] = batting_data['HS_2022'].astype('float64')\n",
    "\n",
    "batting_data['Avg_2022'] = batting_data['Avg_2022'].astype('float64')\n",
    "\n",
    "# Calling function to write a csv file to our output folder\n",
    "write_csv_data(\"Outputs\", \"batting_data_fixed_data_type_mismatches.csv\", batting_data)"
   ]
  },
  {
   "cell_type": "markdown",
   "id": "13865a0f",
   "metadata": {},
   "source": [
    "Rerunning info method to verify if the data type conversions were successful."
   ]
  },
  {
   "cell_type": "code",
   "execution_count": 18,
   "id": "ceb4a9b8",
   "metadata": {},
   "outputs": [
    {
     "name": "stdout",
     "output_type": "stream",
     "text": [
      "<class 'pandas.core.frame.DataFrame'>\n",
      "Int64Index: 338 entries, 0 to 337\n",
      "Data columns (total 85 columns):\n",
      " #   Column     Non-Null Count  Dtype  \n",
      "---  ------     --------------  -----  \n",
      " 0   Player     338 non-null    object \n",
      " 1   Mat_2016   136 non-null    float64\n",
      " 2   Inns_2016  136 non-null    float64\n",
      " 3   NO_2016    136 non-null    float64\n",
      " 4   Runs_2016  136 non-null    float64\n",
      " 5   HS_2016    136 non-null    float64\n",
      " 6   Avg_2016   136 non-null    float64\n",
      " 7   BF_2016    136 non-null    float64\n",
      " 8   SR_2016    136 non-null    float64\n",
      " 9   100_2016   136 non-null    float64\n",
      " 10  50_2016    136 non-null    float64\n",
      " 11  4s_2016    136 non-null    float64\n",
      " 12  6s_2016    136 non-null    float64\n",
      " 13  Mat_2017   143 non-null    float64\n",
      " 14  Inns_2017  143 non-null    float64\n",
      " 15  NO_2017    143 non-null    float64\n",
      " 16  Runs_2017  143 non-null    float64\n",
      " 17  HS_2017    143 non-null    float64\n",
      " 18  Avg_2017   143 non-null    float64\n",
      " 19  BF_2017    143 non-null    float64\n",
      " 20  SR_2017    143 non-null    float64\n",
      " 21  100_2017   143 non-null    float64\n",
      " 22  50_2017    143 non-null    float64\n",
      " 23  4s_2017    143 non-null    float64\n",
      " 24  6s_2017    143 non-null    float64\n",
      " 25  Mat_2018   138 non-null    float64\n",
      " 26  Inns_2018  138 non-null    float64\n",
      " 27  NO_2018    138 non-null    float64\n",
      " 28  Runs_2018  138 non-null    float64\n",
      " 29  HS_2018    138 non-null    float64\n",
      " 30  Avg_2018   138 non-null    float64\n",
      " 31  BF_2018    138 non-null    float64\n",
      " 32  SR_2018    138 non-null    float64\n",
      " 33  100_2018   138 non-null    float64\n",
      " 34  50_2018    138 non-null    float64\n",
      " 35  4s_2018    138 non-null    float64\n",
      " 36  6s_2018    138 non-null    float64\n",
      " 37  Mat_2019   144 non-null    float64\n",
      " 38  Inns_2019  144 non-null    float64\n",
      " 39  NO_2019    144 non-null    float64\n",
      " 40  Runs_2019  144 non-null    float64\n",
      " 41  HS_2019    144 non-null    float64\n",
      " 42  Avg_2019   144 non-null    float64\n",
      " 43  BF_2019    144 non-null    float64\n",
      " 44  SR_2019    144 non-null    float64\n",
      " 45  100_2019   144 non-null    float64\n",
      " 46  50_2019    144 non-null    float64\n",
      " 47  4s_2019    144 non-null    float64\n",
      " 48  6s_2019    144 non-null    float64\n",
      " 49  Mat_2020   133 non-null    float64\n",
      " 50  Inns_2020  133 non-null    float64\n",
      " 51  NO_2020    133 non-null    float64\n",
      " 52  Runs_2020  133 non-null    float64\n",
      " 53  HS_2020    133 non-null    float64\n",
      " 54  Avg_2020   133 non-null    float64\n",
      " 55  BF_2020    133 non-null    float64\n",
      " 56  SR_2020    133 non-null    float64\n",
      " 57  100_2020   133 non-null    float64\n",
      " 58  50_2020    133 non-null    float64\n",
      " 59  4s_2020    133 non-null    float64\n",
      " 60  6s_2020    133 non-null    float64\n",
      " 61  Mat_2021   149 non-null    float64\n",
      " 62  Inns_2021  149 non-null    float64\n",
      " 63  NO_2021    149 non-null    float64\n",
      " 64  Runs_2021  149 non-null    float64\n",
      " 65  HS_2021    149 non-null    float64\n",
      " 66  Avg_2021   149 non-null    float64\n",
      " 67  BF_2021    149 non-null    float64\n",
      " 68  SR_2021    149 non-null    float64\n",
      " 69  100_2021   149 non-null    float64\n",
      " 70  50_2021    149 non-null    float64\n",
      " 71  4s_2021    149 non-null    float64\n",
      " 72  6s_2021    149 non-null    float64\n",
      " 73  Mat_2022   162 non-null    float64\n",
      " 74  Inns_2022  162 non-null    float64\n",
      " 75  NO_2022    162 non-null    float64\n",
      " 76  Runs_2022  162 non-null    float64\n",
      " 77  HS_2022    162 non-null    float64\n",
      " 78  Avg_2022   162 non-null    float64\n",
      " 79  BF_2022    162 non-null    float64\n",
      " 80  SR_2022    162 non-null    float64\n",
      " 81  100_2022   162 non-null    float64\n",
      " 82  50_2022    162 non-null    float64\n",
      " 83  4s_2022    162 non-null    float64\n",
      " 84  6s_2022    162 non-null    float64\n",
      "dtypes: float64(84), object(1)\n",
      "memory usage: 227.1+ KB\n"
     ]
    }
   ],
   "source": [
    "batting_data.info(show_counts=True)"
   ]
  },
  {
   "cell_type": "markdown",
   "id": "cdbb5d1a",
   "metadata": {},
   "source": [
    "### 6. Plotting Histograms for key attributes in batting data\n",
    "So instead of plotting histograms for all fields at once, I decided to plot similiar fields for all years together. So below I did runs for batting. Then I will do average, high scores, and matches for now."
   ]
  },
  {
   "cell_type": "code",
   "execution_count": 19,
   "id": "462dc8d3",
   "metadata": {},
   "outputs": [
    {
     "data": {
      "image/png": "[encoded data removed]",
      "text/plain": [
       "<Figure size 1440x1080 with 9 Axes>"
      ]
     },
     "metadata": {
      "needs_background": "light"
     },
     "output_type": "display_data"
    }
   ],
   "source": [
    "%matplotlib inline\n",
    "import matplotlib.pyplot as plt\n",
    "\n",
    "# Batting runs\n",
    "batting_data[['Runs_2016', 'Runs_2017', 'Runs_2018', 'Runs_2019', 'Runs_2020', 'Runs_2021', 'Runs_2022']].hist(bins=25, figsize=(20,15))\n",
    "plt.show()"
   ]
  },
  {
   "cell_type": "code",
   "execution_count": 20,
   "id": "25e9a5ed",
   "metadata": {},
   "outputs": [
    {
     "data": {
      "image/png": "[encoded data removed]",
      "text/plain": [
       "<Figure size 1440x1080 with 9 Axes>"
      ]
     },
     "metadata": {
      "needs_background": "light"
     },
     "output_type": "display_data"
    }
   ],
   "source": [
    "# Batting matches\n",
    "batting_data[['Mat_2016', 'Mat_2017', 'Mat_2018', 'Mat_2019', 'Mat_2020', 'Mat_2021', 'Mat_2022']].hist(bins=25, figsize=(20,15))\n",
    "plt.show()"
   ]
  },
  {
   "cell_type": "code",
   "execution_count": 21,
   "id": "91b2ccc0",
   "metadata": {},
   "outputs": [
    {
     "data": {
      "image/png": "[encoded data removed]",
      "text/plain": [
       "<Figure size 1440x1080 with 9 Axes>"
      ]
     },
     "metadata": {
      "needs_background": "light"
     },
     "output_type": "display_data"
    }
   ],
   "source": [
    "# Batting average\n",
    "batting_data[['Avg_2016', 'Avg_2017', 'Avg_2018', 'Avg_2019', 'Avg_2020', 'Avg_2021', 'Avg_2022']].hist(bins=50, figsize=(20,15))\n",
    "plt.show()"
   ]
  },
  {
   "cell_type": "code",
   "execution_count": 22,
   "id": "2768201a",
   "metadata": {},
   "outputs": [
    {
     "data": {
      "image/png": "[encoded data removed]",
      "text/plain": [
       "<Figure size 1440x1080 with 9 Axes>"
      ]
     },
     "metadata": {
      "needs_background": "light"
     },
     "output_type": "display_data"
    }
   ],
   "source": [
    "# Batting high scores\n",
    "batting_data[['HS_2016', 'HS_2017', 'HS_2018', 'HS_2019', 'HS_2020', 'HS_2021', 'HS_2022']].hist(bins=50, figsize=(20,15))\n",
    "plt.show()"
   ]
  },
  {
   "cell_type": "markdown",
   "id": "96d60113",
   "metadata": {},
   "source": [
    "### 6a. Plotting histograms for key attributes in bowling data\n",
    "So instead of plotting histograms for all fields at once, I decided to plot similiar fields for all years together. So below I did wickets for bowling. Then I will do average, economy rate, and matches for now."
   ]
  },
  {
   "cell_type": "code",
   "execution_count": 23,
   "id": "7ac28385",
   "metadata": {},
   "outputs": [
    {
     "data": {
      "image/png": "[encoded data removed]",
      "text/plain": [
       "<Figure size 1440x1080 with 9 Axes>"
      ]
     },
     "metadata": {
      "needs_background": "light"
     },
     "output_type": "display_data"
    }
   ],
   "source": [
    "# Bowling wickets\n",
    "bowling_data[['Wkts_2016', 'Wkts_2017', 'Wkts_2018', 'Wkts_2019', 'Wkts_2020', 'Wkts_2021', 'Wkts_2022']].hist(bins=50, figsize=(20,15))\n",
    "plt.show()"
   ]
  },
  {
   "cell_type": "code",
   "execution_count": 24,
   "id": "a72b4f03",
   "metadata": {},
   "outputs": [
    {
     "data": {
      "image/png": "[encoded data removed]",
      "text/plain": [
       "<Figure size 1440x1080 with 9 Axes>"
      ]
     },
     "metadata": {
      "needs_background": "light"
     },
     "output_type": "display_data"
    }
   ],
   "source": [
    "# Bowling average\n",
    "bowling_data[['Avg_2016', 'Avg_2017', 'Avg_2018', 'Avg_2019', 'Avg_2020', 'Avg_2021', 'Avg_2022']].hist(bins=50, figsize=(20,15))\n",
    "plt.show()"
   ]
  },
  {
   "cell_type": "code",
   "execution_count": 25,
   "id": "1866d35b",
   "metadata": {},
   "outputs": [
    {
     "data": {
      "image/png": "[encoded data removed]",
      "text/plain": [
       "<Figure size 1440x1080 with 9 Axes>"
      ]
     },
     "metadata": {
      "needs_background": "light"
     },
     "output_type": "display_data"
    }
   ],
   "source": [
    "# Bowling economy rates\n",
    "bowling_data[['Econ_2016', 'Econ_2017', 'Econ_2018', 'Econ_2019', 'Econ_2020', 'Econ_2021', 'Econ_2022']].hist(bins=50, figsize=(20,15))\n",
    "plt.show()"
   ]
  },
  {
   "cell_type": "code",
   "execution_count": 26,
   "id": "2daec1df",
   "metadata": {},
   "outputs": [
    {
     "data": {
      "image/png": "[encoded data removed]",
      "text/plain": [
       "<Figure size 1440x1080 with 9 Axes>"
      ]
     },
     "metadata": {
      "needs_background": "light"
     },
     "output_type": "display_data"
    }
   ],
   "source": [
    "# Bowling matches\n",
    "bowling_data[['Mat_2016', 'Mat_2017', 'Mat_2018', 'Mat_2019', 'Mat_2020', 'Mat_2021', 'Mat_2022']].hist(bins=50, figsize=(20,15))\n",
    "plt.show()"
   ]
  },
  {
   "cell_type": "markdown",
   "id": "fb6aafbc",
   "metadata": {},
   "source": [
    "### 7. Clean the data\n",
    "\n",
    "Need to inpute 0s for all nulls in both dataframes."
   ]
  },
  {
   "cell_type": "code",
   "execution_count": 27,
   "id": "34235fde",
   "metadata": {},
   "outputs": [
    {
     "name": "stdout",
     "output_type": "stream",
     "text": [
      "bowling_data_filled_all_blanks.csv was written to successfully!\n",
      "batting_data_filled_all_blanks.csv was written to successfully!\n"
     ]
    }
   ],
   "source": [
    "batting_data.fillna(0, inplace=True)\n",
    "bowling_data.fillna(0, inplace=True)\n",
    "\n",
    "# Calling function to write a csv file to our output folder\n",
    "write_csv_data(\"Outputs\", \"bowling_data_filled_all_blanks.csv\", bowling_data)\n",
    "write_csv_data(\"Outputs\", \"batting_data_filled_all_blanks.csv\", batting_data)"
   ]
  },
  {
   "cell_type": "markdown",
   "id": "db264c1a",
   "metadata": {},
   "source": [
    "### 8. Need to create training and test sets\n",
    "By doing this, we do not get too familiar with a portion of the data which can affect us in choosing a proper model in the future. "
   ]
  },
  {
   "cell_type": "code",
   "execution_count": null,
   "id": "b0324a3e",
   "metadata": {},
   "outputs": [],
   "source": []
  }
 ],
 "metadata": {
  "kernelspec": {
   "display_name": "Python 3 (ipykernel)",
   "language": "python",
   "name": "python3"
  },
  "language_info": {
   "codemirror_mode": {
    "name": "ipython",
    "version": 3
   },
   "file_extension": ".py",
   "mimetype": "text/x-python",
   "name": "python",
   "nbconvert_exporter": "python",
   "pygments_lexer": "ipython3",
   "version": "3.9.0"
  }
 },
 "nbformat": 4,
 "nbformat_minor": 5
}
