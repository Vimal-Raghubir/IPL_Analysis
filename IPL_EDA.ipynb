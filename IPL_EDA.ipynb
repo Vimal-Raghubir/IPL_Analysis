{
 "cells": [
  {
   "cell_type": "markdown",
   "id": "25b42b04",
   "metadata": {},
   "source": [
    "# IPL Batting and Bowling Analysis (2016-2022)"
   ]
  },
  {
   "cell_type": "markdown",
   "id": "a5846838",
   "metadata": {},
   "source": [
    "## What is the IPL?"
   ]
  },
  {
   "cell_type": "markdown",
   "id": "3ab9739a",
   "metadata": {},
   "source": [
    "IPL stands for the Indian Premier League and is a professional men's Twenty20 cricket league hosted in India. The competition consists pf 10 teams and the ultimate goal is to win the championship at the end of each season. The league is franchised and hosts players from all around the world with the main pool of players coming from India. \n",
    "\n",
    "The data used in this notebook can be accessed here: https://www.kaggle.com/datasets/anandkumarsahu09/ipl-player-stats-20162022. The data consists of batting statistics for each season from 2016 to 2022 along with the bowling statistics for the same seasons.\n",
    "\n",
    "The ultimate goal of this notebook is to analyze the bowling and batting statistics to identify some of the best T20 batsmen and bowlers in this competition. "
   ]
  },
  {
   "cell_type": "markdown",
   "id": "00fa03ea",
   "metadata": {},
   "source": [
    "## How to identify the best T20 batsmen and T20 bowler?"
   ]
  },
  {
   "cell_type": "markdown",
   "id": "86db39e8",
   "metadata": {},
   "source": [
    "There is a huge amount of contention about how to decide who the best players are however I am going to use a statistical non-biased approach in this notebook. So for a bit of context, T20 cricket is one of the shortest formats of cricket being played around the world. Historically, Test cricket was considered the original format for cricket and it was fairly straightforward on how to identify the best batsman and bowler.\n",
    "\n",
    "You simply had to look at who scored the most runs to determine the best batsman and who had the most wickets for the best bowler. These are ultimately the most imporant metric in cricket since a batsman's job is to score runs and a bowler's job is to take wickets. We could simply use this same logic for T20 cricket however we will fail to acknowledge a core difference between the 2 formats being discussed.\n",
    "\n",
    "Test cricket is played over the course of 5 days and each day has 90 overs. What this means is that batsmen are not pressured to score runs at a quick pace leading to strike rates and boundaries scored to be a non factor in the measure of a great batsman. \n",
    "Also, the amount of landmarks scored (50s or 100s) were a lot easier to come by simply because facing more balls gives you more opportunities to score more runs.\n",
    "\n",
    "Now comparing that to modern T20 cricket which has a limit of 20 overs per side, we cannot simply look at runs only to determine a great T20 batsman. If a person has a lot of runs but has a poor strike rate, then they may do more harm to their team's performance than good. For example, a par score in modern T20 cricket is 150. A person that scores 80 runs off of 90 balls in a T20 game means that the team has 30 balls to score the remaining 70 runs to get to par. This hurts the team much more than a person who scores 60 runs off of 40 balls. This will mean the team has 80 balls to score at least 90 runs. \n",
    "\n",
    "So for me to identify the statistical best T20 batsmen, I will factor in strike rate, boundaries scored (since this directly impacts strike rate and batsmen's efficiency), landmarks scored (a lesser factor but significantly helps teams when scored at a good strike rate), average, and finally total runs scored. \n",
    "\n",
    "Likewise for a bowler, I will factor in strike rate (number of balls bowled per wicket), economy rate (how much runs does a bowler allow in a single over on average), average (the runs to wicket ratio), landmarks (number of 4 wicket and 5 wicket hauls), and finally wickets to determine the best T20 bowlers."
   ]
  },
  {
   "cell_type": "markdown",
   "id": "f1b19557",
   "metadata": {},
   "source": [
    "### 1. Import the data into the notebook. \n",
    "First I will define a function to load in data given a file path and a filename."
   ]
  },
  {
   "cell_type": "code",
   "execution_count": 1,
   "id": "edf7dbe9",
   "metadata": {},
   "outputs": [],
   "source": [
    "import os\n",
    "import pandas as pd\n",
    "import warnings\n",
    "import numpy as np\n",
    "import matplotlib.pyplot as plt\n",
    "import seaborn as sns\n",
    "import plotly.express as px\n",
    "import plotly.graph_objects as go\n",
    "from plotly.subplots import make_subplots\n",
    "from IPython.display import Image\n",
    "warnings.filterwarnings(\"ignore\")\n",
    "\n",
    "\n",
    "def load_data(file_path , filename):\n",
    "    \n",
    "    csv_path = os.path.join(file_path, filename)\n",
    "    return pd.read_csv(csv_path)"
   ]
  },
  {
   "cell_type": "code",
   "execution_count": 2,
   "id": "ccf87266",
   "metadata": {},
   "outputs": [],
   "source": [
    "def write_csv_data(file_path, filename, df):\n",
    "    csv_path = os.path.join(file_path, filename)\n",
    "    df.to_csv(csv_path)\n",
    "    \n",
    "    if os.path.exists(csv_path) and os.path.getsize(csv_path) > 0:\n",
    "        print(filename + \" was written to successfully!\")"
   ]
  },
  {
   "cell_type": "markdown",
   "id": "b0b28675",
   "metadata": {},
   "source": [
    "#### 1a. Load in batting data\n",
    "We will then call the function to load in all batting data."
   ]
  },
  {
   "cell_type": "code",
   "execution_count": 3,
   "id": "a370be9e",
   "metadata": {},
   "outputs": [],
   "source": [
    "batting_file_path = \"Data/Batting_Stats\"\n",
    "\n",
    "\n",
    "# All batting dataframes\n",
    "df_batting_2016 = load_data(batting_file_path, \"BATTING_STATS-IPL_2016.csv\")\n",
    "df_batting_2017 = load_data(batting_file_path, \"BATTING_STATS-IPL_2017.csv\")\n",
    "df_batting_2018 = load_data(batting_file_path, \"BATTING_STATS-IPL_2018.csv\")\n",
    "df_batting_2019 = load_data(batting_file_path, \"BATTING_STATS-IPL_2019.csv\")\n",
    "df_batting_2020 = load_data(batting_file_path, \"BATTING_STATS-IPL_2020.csv\")\n",
    "df_batting_2021 = load_data(batting_file_path, \"BATTING_STATS-IPL_2021.csv\")\n",
    "df_batting_2022 = load_data(batting_file_path, \"BATTING_STATS-IPL_2022.csv\")\n",
    "\n"
   ]
  },
  {
   "cell_type": "markdown",
   "id": "14d72164",
   "metadata": {},
   "source": [
    "#### 1b. Load in bowling data\n",
    "We will then call the function to load in all bowling data."
   ]
  },
  {
   "cell_type": "code",
   "execution_count": 4,
   "id": "7968a1ec",
   "metadata": {},
   "outputs": [],
   "source": [
    "bowling_file_path = \"Data/Bowling_Stats\"\n",
    "\n",
    "# All bowling dataframes\n",
    "df_bowling_2016 = load_data(bowling_file_path, \"BOWLING_STATS-IPL_2016.csv\")\n",
    "df_bowling_2017 = load_data(bowling_file_path, \"BOWLING_STATS-IPL_2017.csv\")\n",
    "df_bowling_2018 = load_data(bowling_file_path, \"BOWLING_STATS-IPL_2018.csv\")\n",
    "df_bowling_2019 = load_data(bowling_file_path, \"BOWLING_STATS-IPL_2019.csv\")\n",
    "df_bowling_2020 = load_data(bowling_file_path, \"BOWLING_STATS-IPL_2020.csv\")\n",
    "df_bowling_2021 = load_data(bowling_file_path, \"BOWLING_STATS-IPL_2021.csv\")\n",
    "df_bowling_2022 = load_data(bowling_file_path, \"BOWLING_STATS-IPL_2022.csv\")"
   ]
  },
  {
   "cell_type": "markdown",
   "id": "ab17a838",
   "metadata": {},
   "source": [
    "### 2. Take a first look at the dataframes\n",
    "We will use some basic dataframe commands to inspect the content."
   ]
  },
  {
   "cell_type": "code",
   "execution_count": 5,
   "id": "9f536461",
   "metadata": {},
   "outputs": [
    {
     "data": {
      "text/html": [
       "<div>\n",
       "<style scoped>\n",
       "    .dataframe tbody tr th:only-of-type {\n",
       "        vertical-align: middle;\n",
       "    }\n",
       "\n",
       "    .dataframe tbody tr th {\n",
       "        vertical-align: top;\n",
       "    }\n",
       "\n",
       "    .dataframe thead th {\n",
       "        text-align: right;\n",
       "    }\n",
       "</style>\n",
       "<table border=\"1\" class=\"dataframe\">\n",
       "  <thead>\n",
       "    <tr style=\"text-align: right;\">\n",
       "      <th></th>\n",
       "      <th>POS</th>\n",
       "      <th>Player</th>\n",
       "      <th>Mat</th>\n",
       "      <th>Inns</th>\n",
       "      <th>NO</th>\n",
       "      <th>Runs</th>\n",
       "      <th>HS</th>\n",
       "      <th>Avg</th>\n",
       "      <th>BF</th>\n",
       "      <th>SR</th>\n",
       "      <th>100</th>\n",
       "      <th>50</th>\n",
       "      <th>4s</th>\n",
       "      <th>6s</th>\n",
       "    </tr>\n",
       "  </thead>\n",
       "  <tbody>\n",
       "    <tr>\n",
       "      <th>0</th>\n",
       "      <td>1</td>\n",
       "      <td>Jos Buttler</td>\n",
       "      <td>17</td>\n",
       "      <td>17</td>\n",
       "      <td>2</td>\n",
       "      <td>863</td>\n",
       "      <td>116</td>\n",
       "      <td>57.53</td>\n",
       "      <td>579</td>\n",
       "      <td>149.05</td>\n",
       "      <td>4</td>\n",
       "      <td>4</td>\n",
       "      <td>83</td>\n",
       "      <td>45</td>\n",
       "    </tr>\n",
       "    <tr>\n",
       "      <th>1</th>\n",
       "      <td>2</td>\n",
       "      <td>KL Rahul</td>\n",
       "      <td>15</td>\n",
       "      <td>15</td>\n",
       "      <td>3</td>\n",
       "      <td>616</td>\n",
       "      <td>103*</td>\n",
       "      <td>51.33</td>\n",
       "      <td>455</td>\n",
       "      <td>135.38</td>\n",
       "      <td>2</td>\n",
       "      <td>4</td>\n",
       "      <td>45</td>\n",
       "      <td>30</td>\n",
       "    </tr>\n",
       "    <tr>\n",
       "      <th>2</th>\n",
       "      <td>3</td>\n",
       "      <td>Quinton De Kock</td>\n",
       "      <td>15</td>\n",
       "      <td>15</td>\n",
       "      <td>1</td>\n",
       "      <td>508</td>\n",
       "      <td>140*</td>\n",
       "      <td>36.29</td>\n",
       "      <td>341</td>\n",
       "      <td>148.97</td>\n",
       "      <td>1</td>\n",
       "      <td>3</td>\n",
       "      <td>47</td>\n",
       "      <td>23</td>\n",
       "    </tr>\n",
       "    <tr>\n",
       "      <th>3</th>\n",
       "      <td>4</td>\n",
       "      <td>Hardik Pandya</td>\n",
       "      <td>15</td>\n",
       "      <td>15</td>\n",
       "      <td>4</td>\n",
       "      <td>487</td>\n",
       "      <td>87*</td>\n",
       "      <td>44.27</td>\n",
       "      <td>371</td>\n",
       "      <td>131.26</td>\n",
       "      <td>0</td>\n",
       "      <td>4</td>\n",
       "      <td>49</td>\n",
       "      <td>12</td>\n",
       "    </tr>\n",
       "    <tr>\n",
       "      <th>4</th>\n",
       "      <td>5</td>\n",
       "      <td>Shubman Gill</td>\n",
       "      <td>16</td>\n",
       "      <td>16</td>\n",
       "      <td>2</td>\n",
       "      <td>483</td>\n",
       "      <td>96</td>\n",
       "      <td>34.5</td>\n",
       "      <td>365</td>\n",
       "      <td>132.32</td>\n",
       "      <td>0</td>\n",
       "      <td>4</td>\n",
       "      <td>51</td>\n",
       "      <td>11</td>\n",
       "    </tr>\n",
       "  </tbody>\n",
       "</table>\n",
       "</div>"
      ],
      "text/plain": [
       "   POS           Player  Mat  Inns  NO  Runs    HS    Avg   BF      SR  100  \\\n",
       "0    1      Jos Buttler   17    17   2   863   116  57.53  579  149.05    4   \n",
       "1    2         KL Rahul   15    15   3   616  103*  51.33  455  135.38    2   \n",
       "2    3  Quinton De Kock   15    15   1   508  140*  36.29  341  148.97    1   \n",
       "3    4    Hardik Pandya   15    15   4   487   87*  44.27  371  131.26    0   \n",
       "4    5     Shubman Gill   16    16   2   483    96   34.5  365  132.32    0   \n",
       "\n",
       "   50  4s  6s  \n",
       "0   4  83  45  \n",
       "1   4  45  30  \n",
       "2   3  47  23  \n",
       "3   4  49  12  \n",
       "4   4  51  11  "
      ]
     },
     "execution_count": 5,
     "metadata": {},
     "output_type": "execute_result"
    }
   ],
   "source": [
    "df_batting_2022.head()"
   ]
  },
  {
   "cell_type": "code",
   "execution_count": 6,
   "id": "4b1da0fb",
   "metadata": {},
   "outputs": [
    {
     "data": {
      "text/html": [
       "<div>\n",
       "<style scoped>\n",
       "    .dataframe tbody tr th:only-of-type {\n",
       "        vertical-align: middle;\n",
       "    }\n",
       "\n",
       "    .dataframe tbody tr th {\n",
       "        vertical-align: top;\n",
       "    }\n",
       "\n",
       "    .dataframe thead th {\n",
       "        text-align: right;\n",
       "    }\n",
       "</style>\n",
       "<table border=\"1\" class=\"dataframe\">\n",
       "  <thead>\n",
       "    <tr style=\"text-align: right;\">\n",
       "      <th></th>\n",
       "      <th>POS</th>\n",
       "      <th>Player</th>\n",
       "      <th>Mat</th>\n",
       "      <th>Inns</th>\n",
       "      <th>Ov</th>\n",
       "      <th>Runs</th>\n",
       "      <th>Wkts</th>\n",
       "      <th>BBI</th>\n",
       "      <th>Avg</th>\n",
       "      <th>Econ</th>\n",
       "      <th>SR</th>\n",
       "      <th>4w</th>\n",
       "      <th>5w</th>\n",
       "    </tr>\n",
       "  </thead>\n",
       "  <tbody>\n",
       "    <tr>\n",
       "      <th>0</th>\n",
       "      <td>1</td>\n",
       "      <td>Yuzvendra Chahal</td>\n",
       "      <td>17</td>\n",
       "      <td>17</td>\n",
       "      <td>68.0</td>\n",
       "      <td>527</td>\n",
       "      <td>27</td>\n",
       "      <td>40/5</td>\n",
       "      <td>19.51</td>\n",
       "      <td>7.75</td>\n",
       "      <td>15.11</td>\n",
       "      <td>1</td>\n",
       "      <td>1</td>\n",
       "    </tr>\n",
       "    <tr>\n",
       "      <th>1</th>\n",
       "      <td>2</td>\n",
       "      <td>Wanindu Hasaranga</td>\n",
       "      <td>16</td>\n",
       "      <td>16</td>\n",
       "      <td>57.0</td>\n",
       "      <td>430</td>\n",
       "      <td>26</td>\n",
       "      <td>18/5</td>\n",
       "      <td>16.53</td>\n",
       "      <td>7.54</td>\n",
       "      <td>13.15</td>\n",
       "      <td>1</td>\n",
       "      <td>1</td>\n",
       "    </tr>\n",
       "    <tr>\n",
       "      <th>2</th>\n",
       "      <td>3</td>\n",
       "      <td>Kagiso Rabada</td>\n",
       "      <td>13</td>\n",
       "      <td>13</td>\n",
       "      <td>48.0</td>\n",
       "      <td>406</td>\n",
       "      <td>23</td>\n",
       "      <td>33/4</td>\n",
       "      <td>17.65</td>\n",
       "      <td>8.45</td>\n",
       "      <td>12.52</td>\n",
       "      <td>2</td>\n",
       "      <td>0</td>\n",
       "    </tr>\n",
       "    <tr>\n",
       "      <th>3</th>\n",
       "      <td>4</td>\n",
       "      <td>Umran Malik</td>\n",
       "      <td>14</td>\n",
       "      <td>14</td>\n",
       "      <td>49.1</td>\n",
       "      <td>444</td>\n",
       "      <td>22</td>\n",
       "      <td>25/5</td>\n",
       "      <td>20.18</td>\n",
       "      <td>9.03</td>\n",
       "      <td>13.40</td>\n",
       "      <td>1</td>\n",
       "      <td>1</td>\n",
       "    </tr>\n",
       "    <tr>\n",
       "      <th>4</th>\n",
       "      <td>5</td>\n",
       "      <td>Kuldeep Yadav</td>\n",
       "      <td>14</td>\n",
       "      <td>14</td>\n",
       "      <td>49.4</td>\n",
       "      <td>419</td>\n",
       "      <td>21</td>\n",
       "      <td>14/4</td>\n",
       "      <td>19.95</td>\n",
       "      <td>8.43</td>\n",
       "      <td>14.19</td>\n",
       "      <td>2</td>\n",
       "      <td>0</td>\n",
       "    </tr>\n",
       "  </tbody>\n",
       "</table>\n",
       "</div>"
      ],
      "text/plain": [
       "   POS             Player  Mat  Inns    Ov  Runs  Wkts   BBI    Avg  Econ  \\\n",
       "0    1   Yuzvendra Chahal   17    17  68.0   527    27  40/5  19.51  7.75   \n",
       "1    2  Wanindu Hasaranga   16    16  57.0   430    26  18/5  16.53  7.54   \n",
       "2    3      Kagiso Rabada   13    13  48.0   406    23  33/4  17.65  8.45   \n",
       "3    4        Umran Malik   14    14  49.1   444    22  25/5  20.18  9.03   \n",
       "4    5      Kuldeep Yadav   14    14  49.4   419    21  14/4  19.95  8.43   \n",
       "\n",
       "      SR  4w  5w  \n",
       "0  15.11   1   1  \n",
       "1  13.15   1   1  \n",
       "2  12.52   2   0  \n",
       "3  13.40   1   1  \n",
       "4  14.19   2   0  "
      ]
     },
     "execution_count": 6,
     "metadata": {},
     "output_type": "execute_result"
    }
   ],
   "source": [
    "df_bowling_2022.head()"
   ]
  },
  {
   "cell_type": "markdown",
   "id": "c14bafa5",
   "metadata": {},
   "source": [
    "### 2a. Info function analysis\n",
    "Info function will give us details on whether any fields contain null values and after running the function on all dataframes, there doesn't seem to be any null values. This is very good.\n",
    "\n",
    "We can see however that the highest score, average and BBI columns are all strings. This is a problem for the average column since it needs to be a float but BBI will always contain a slash and high score can contain an * to indicate not out. We will omit both BBI and High Score since it is not needed for later analysis."
   ]
  },
  {
   "cell_type": "code",
   "execution_count": 7,
   "id": "9c66ed09",
   "metadata": {},
   "outputs": [
    {
     "name": "stdout",
     "output_type": "stream",
     "text": [
      "<class 'pandas.core.frame.DataFrame'>\n",
      "RangeIndex: 133 entries, 0 to 132\n",
      "Data columns (total 14 columns):\n",
      " #   Column  Non-Null Count  Dtype  \n",
      "---  ------  --------------  -----  \n",
      " 0   POS     133 non-null    int64  \n",
      " 1   Player  133 non-null    object \n",
      " 2   Mat     133 non-null    int64  \n",
      " 3   Inns    133 non-null    int64  \n",
      " 4   NO      133 non-null    int64  \n",
      " 5   Runs    133 non-null    int64  \n",
      " 6   HS      133 non-null    object \n",
      " 7   Avg     133 non-null    float64\n",
      " 8   BF      133 non-null    int64  \n",
      " 9   SR      133 non-null    float64\n",
      " 10  100     133 non-null    int64  \n",
      " 11  50      133 non-null    int64  \n",
      " 12  4s      133 non-null    int64  \n",
      " 13  6s      133 non-null    int64  \n",
      "dtypes: float64(2), int64(10), object(2)\n",
      "memory usage: 14.7+ KB\n"
     ]
    }
   ],
   "source": [
    "df_batting_2020.info()"
   ]
  },
  {
   "cell_type": "code",
   "execution_count": 8,
   "id": "3ce76c16",
   "metadata": {},
   "outputs": [
    {
     "name": "stdout",
     "output_type": "stream",
     "text": [
      "<class 'pandas.core.frame.DataFrame'>\n",
      "RangeIndex: 103 entries, 0 to 102\n",
      "Data columns (total 13 columns):\n",
      " #   Column  Non-Null Count  Dtype  \n",
      "---  ------  --------------  -----  \n",
      " 0   POS     103 non-null    int64  \n",
      " 1   Player  103 non-null    object \n",
      " 2   Mat     103 non-null    int64  \n",
      " 3   Inns    103 non-null    int64  \n",
      " 4   Ov      103 non-null    float64\n",
      " 5   Runs    103 non-null    int64  \n",
      " 6   Wkts    103 non-null    int64  \n",
      " 7   BBI     103 non-null    object \n",
      " 8   Avg     103 non-null    float64\n",
      " 9   Econ    103 non-null    float64\n",
      " 10  SR      103 non-null    float64\n",
      " 11  4w      103 non-null    int64  \n",
      " 12  5w      103 non-null    int64  \n",
      "dtypes: float64(4), int64(7), object(2)\n",
      "memory usage: 10.6+ KB\n"
     ]
    }
   ],
   "source": [
    "df_bowling_2022.info()"
   ]
  },
  {
   "cell_type": "markdown",
   "id": "f571bda6",
   "metadata": {},
   "source": [
    "### 3. Fix issues in the concatenated datasets\n",
    "We need to address the BBI, High Score, and Average column for both batting and bowling data. I will create utility functions for each discipline to handle the cleaning in a functional way."
   ]
  },
  {
   "cell_type": "code",
   "execution_count": 9,
   "id": "62cfec93",
   "metadata": {},
   "outputs": [],
   "source": [
    "def cleanBattingData(df_batting):\n",
    "    # Handles cleaning the Average column\n",
    "    df_batting['Avg'] = df_batting['Avg'].astype(str)\n",
    "    df_batting['Avg'] = df_batting['Avg'].str.replace(\"-\", \"0\")\n",
    "    df_batting['Avg'] = df_batting['Avg'].str.strip(\"\")\n",
    "    df_batting['Avg'] = df_batting['Avg'].astype('float64')\n",
    "\n",
    "    # Removing unneeded * from High Score column\n",
    "    df_batting['HS'] = df_batting['HS'].str.replace(\"*\", \"\")\n",
    "    \n",
    "    # Dropping unneeded POS column\n",
    "    df_batting.drop(['POS'], axis=1, inplace=True)\n",
    "    \n",
    "    return df_batting"
   ]
  },
  {
   "cell_type": "code",
   "execution_count": 10,
   "id": "6585f1d8",
   "metadata": {},
   "outputs": [
    {
     "name": "stdout",
     "output_type": "stream",
     "text": [
      "cleaned_batting_data_2016.csv was written to successfully!\n",
      "cleaned_batting_data_2017.csv was written to successfully!\n",
      "cleaned_batting_data_2018.csv was written to successfully!\n",
      "cleaned_batting_data_2019.csv was written to successfully!\n",
      "cleaned_batting_data_2020.csv was written to successfully!\n",
      "cleaned_batting_data_2021.csv was written to successfully!\n",
      "cleaned_batting_data_2022.csv was written to successfully!\n"
     ]
    }
   ],
   "source": [
    "df_clean_batting_2016 = cleanBattingData(df_batting_2016)\n",
    "df_clean_batting_2017 = cleanBattingData(df_batting_2017)\n",
    "df_clean_batting_2018 = cleanBattingData(df_batting_2018)\n",
    "df_clean_batting_2019 = cleanBattingData(df_batting_2019)\n",
    "df_clean_batting_2020 = cleanBattingData(df_batting_2020)\n",
    "df_clean_batting_2021 = cleanBattingData(df_batting_2021)\n",
    "df_clean_batting_2022 = cleanBattingData(df_batting_2022)\n",
    "\n",
    "\n",
    "write_csv_data(\"Outputs\\Cleaned_Datasets\\Batting\", \"cleaned_batting_data_2016.csv\", df_clean_batting_2016)\n",
    "write_csv_data(\"Outputs\\Cleaned_Datasets\\Batting\", \"cleaned_batting_data_2017.csv\", df_clean_batting_2017)\n",
    "write_csv_data(\"Outputs\\Cleaned_Datasets\\Batting\", \"cleaned_batting_data_2018.csv\", df_clean_batting_2018)\n",
    "write_csv_data(\"Outputs\\Cleaned_Datasets\\Batting\", \"cleaned_batting_data_2019.csv\", df_clean_batting_2019)\n",
    "write_csv_data(\"Outputs\\Cleaned_Datasets\\Batting\", \"cleaned_batting_data_2020.csv\", df_clean_batting_2020)\n",
    "write_csv_data(\"Outputs\\Cleaned_Datasets\\Batting\", \"cleaned_batting_data_2021.csv\", df_clean_batting_2021)\n",
    "write_csv_data(\"Outputs\\Cleaned_Datasets\\Batting\", \"cleaned_batting_data_2022.csv\", df_clean_batting_2022)"
   ]
  },
  {
   "cell_type": "code",
   "execution_count": 11,
   "id": "63e9b7ed",
   "metadata": {},
   "outputs": [],
   "source": [
    "def cleanBowlingData(df_bowling):\n",
    "    # Dropping unneeded POS column\n",
    "    df_bowling.drop(['POS'], axis=1, inplace=True)\n",
    "\n",
    "    # Dropping unneeded BBI column\n",
    "    df_bowling.drop(['BBI'], axis=1, inplace=True)\n",
    "    \n",
    "    return df_bowling"
   ]
  },
  {
   "cell_type": "code",
   "execution_count": 12,
   "id": "4c42ff34",
   "metadata": {},
   "outputs": [
    {
     "name": "stdout",
     "output_type": "stream",
     "text": [
      "cleaned_bowling_data_2016.csv was written to successfully!\n",
      "cleaned_bowling_data_2017.csv was written to successfully!\n",
      "cleaned_bowling_data_2018.csv was written to successfully!\n",
      "cleaned_bowling_data_2019.csv was written to successfully!\n",
      "cleaned_bowling_data_2020.csv was written to successfully!\n",
      "cleaned_bowling_data_2021.csv was written to successfully!\n",
      "cleaned_bowling_data_2022.csv was written to successfully!\n"
     ]
    }
   ],
   "source": [
    "df_clean_bowling_2016 = cleanBowlingData(df_bowling_2016)\n",
    "df_clean_bowling_2017 = cleanBowlingData(df_bowling_2017)\n",
    "df_clean_bowling_2018 = cleanBowlingData(df_bowling_2018)\n",
    "df_clean_bowling_2019 = cleanBowlingData(df_bowling_2019)\n",
    "df_clean_bowling_2020 = cleanBowlingData(df_bowling_2020)\n",
    "df_clean_bowling_2021 = cleanBowlingData(df_bowling_2021)\n",
    "df_clean_bowling_2022 = cleanBowlingData(df_bowling_2022)\n",
    "\n",
    "\n",
    "write_csv_data(\"Outputs\\Cleaned_Datasets\\Bowling\", \"cleaned_bowling_data_2016.csv\", df_clean_bowling_2016)\n",
    "write_csv_data(\"Outputs\\Cleaned_Datasets\\Bowling\", \"cleaned_bowling_data_2017.csv\", df_clean_bowling_2017)\n",
    "write_csv_data(\"Outputs\\Cleaned_Datasets\\Bowling\", \"cleaned_bowling_data_2018.csv\", df_clean_bowling_2018)\n",
    "write_csv_data(\"Outputs\\Cleaned_Datasets\\Bowling\", \"cleaned_bowling_data_2019.csv\", df_clean_bowling_2019)\n",
    "write_csv_data(\"Outputs\\Cleaned_Datasets\\Bowling\", \"cleaned_bowling_data_2020.csv\", df_clean_bowling_2020)\n",
    "write_csv_data(\"Outputs\\Cleaned_Datasets\\Bowling\", \"cleaned_bowling_data_2021.csv\", df_clean_bowling_2021)\n",
    "write_csv_data(\"Outputs\\Cleaned_Datasets\\Bowling\", \"cleaned_bowling_data_2022.csv\", df_clean_bowling_2022)"
   ]
  },
  {
   "cell_type": "markdown",
   "id": "60e5a8dc",
   "metadata": {},
   "source": [
    "### 3. Combine dataframes for all years into a single dataframe\n",
    "We can combine the batting data and bowling data to represent all of the players' statistics regardless of the year they took place. This will give us a large enough dataset that we can analyze which will omit single season successes and allow us to get a holistic view of the best players over the course of the past few years. "
   ]
  },
  {
   "cell_type": "markdown",
   "id": "2673e755",
   "metadata": {},
   "source": [
    "#### 3a. Combining and formatting batting data"
   ]
  },
  {
   "cell_type": "code",
   "execution_count": 13,
   "id": "0b2fa6f1",
   "metadata": {},
   "outputs": [],
   "source": [
    "def combineDataFramesWithSeasonCount(df_list):\n",
    "    # This is used to concatenate the dataframes and count the number of seasons each player played by counting the duplicates\n",
    "    df_season_count = pd.concat(df_list)['Player'].value_counts().reset_index()\n",
    "    # We will rename the columns for the this dataframe to easily merge into the total dataframe\n",
    "    df_season_count = df_season_count.rename(columns={\"Player\": \"Seasons\", \"index\": \"Player\"})\n",
    "    \n",
    "    # This concatenation will produce the actual total dataframe with unique entries for each player because of groupby\n",
    "    df_all = pd.concat(df_list).groupby(['Player']).sum().reset_index()\n",
    "    # We merge the season count into the total dataframe to add the Season column\n",
    "    df_all_with_season_count = df_all.merge(df_season_count, on='Player', how='left')\n",
    "\n",
    "    return df_all_with_season_count"
   ]
  },
  {
   "cell_type": "code",
   "execution_count": 14,
   "id": "8156cb4f",
   "metadata": {},
   "outputs": [],
   "source": [
    "def formatBattingCombined(df_batting_combined):\n",
    "    # Will divide average and Strike Rate by number of seasons to get the average of these metrics across all seasons\n",
    "    df_batting_combined['Avg'] = round(df_batting_combined['Avg'] / df_batting_combined['Seasons'],2)\n",
    "    df_batting_combined['SR'] = round(df_batting_combined['SR'] / df_batting_combined['Seasons'],2)\n",
    "    \n",
    "    return df_batting_combined"
   ]
  },
  {
   "cell_type": "code",
   "execution_count": 15,
   "id": "25da1cbf",
   "metadata": {},
   "outputs": [
    {
     "name": "stdout",
     "output_type": "stream",
     "text": [
      "combined_and_formatted_batting.csv was written to successfully!\n"
     ]
    }
   ],
   "source": [
    "batting_list = [df_clean_batting_2016, df_clean_batting_2017, df_clean_batting_2018, df_clean_batting_2019, df_clean_batting_2020\n",
    "                , df_clean_batting_2021, df_clean_batting_2022]\n",
    "\n",
    "df_batting_combined = combineDataFramesWithSeasonCount(batting_list)\n",
    "df_batting_combined_formatted = formatBattingCombined(df_batting_combined)\n",
    "write_csv_data(\"Outputs\\Combined\", \"combined_and_formatted_batting.csv\", df_batting_combined_formatted)"
   ]
  },
  {
   "cell_type": "markdown",
   "id": "2ac78870",
   "metadata": {},
   "source": [
    "#### 3b. Combining and formatting bowling data"
   ]
  },
  {
   "cell_type": "code",
   "execution_count": 16,
   "id": "61dfe2de",
   "metadata": {},
   "outputs": [],
   "source": [
    "def formatBowlingCombined(df_bowling_combined):\n",
    "    # Will divide average, economy and Strike Rate by number of seasons to get the average of these metrics across all seasons\n",
    "    df_bowling_combined['Avg'] = round(df_bowling_combined['Avg'] / df_bowling_combined['Seasons'],2)\n",
    "    df_bowling_combined['SR'] = round(df_bowling_combined['SR'] / df_bowling_combined['Seasons'],2)\n",
    "    df_bowling_combined['Econ'] = round(df_bowling_combined['Econ'] / df_bowling_combined['Seasons'],2)\n",
    "    \n",
    "    return df_bowling_combined"
   ]
  },
  {
   "cell_type": "code",
   "execution_count": 17,
   "id": "e9d0255a",
   "metadata": {},
   "outputs": [
    {
     "name": "stdout",
     "output_type": "stream",
     "text": [
      "combined_and_formatted_bowling.csv was written to successfully!\n"
     ]
    }
   ],
   "source": [
    "bowling_list = [df_clean_bowling_2016, df_clean_bowling_2017, df_clean_bowling_2018, df_clean_bowling_2019, df_clean_bowling_2020\n",
    "                , df_clean_bowling_2021, df_clean_bowling_2022]\n",
    "\n",
    "df_bowling_combined = combineDataFramesWithSeasonCount(bowling_list)\n",
    "df_bowling_combined_formatted = formatBowlingCombined(df_bowling_combined)\n",
    "write_csv_data(\"Outputs\\Combined\", \"combined_and_formatted_bowling.csv\", df_bowling_combined_formatted)"
   ]
  },
  {
   "cell_type": "markdown",
   "id": "415247d5",
   "metadata": {},
   "source": [
    "### 4. Extracting more detailed information about each dataset\n",
    "We want to get a better feel for the data so we will use the describe method and info method again."
   ]
  },
  {
   "cell_type": "markdown",
   "id": "6b14cf79",
   "metadata": {},
   "source": [
    "### 4a. Describe and info method on the batting dataset"
   ]
  },
  {
   "cell_type": "code",
   "execution_count": 23,
   "id": "a180bdca",
   "metadata": {},
   "outputs": [
    {
     "data": {
      "text/html": [
       "<div>\n",
       "<style scoped>\n",
       "    .dataframe tbody tr th:only-of-type {\n",
       "        vertical-align: middle;\n",
       "    }\n",
       "\n",
       "    .dataframe tbody tr th {\n",
       "        vertical-align: top;\n",
       "    }\n",
       "\n",
       "    .dataframe thead th {\n",
       "        text-align: right;\n",
       "    }\n",
       "</style>\n",
       "<table border=\"1\" class=\"dataframe\">\n",
       "  <thead>\n",
       "    <tr style=\"text-align: right;\">\n",
       "      <th></th>\n",
       "      <th>Mat</th>\n",
       "      <th>Inns</th>\n",
       "      <th>NO</th>\n",
       "      <th>Runs</th>\n",
       "      <th>Avg</th>\n",
       "      <th>BF</th>\n",
       "      <th>SR</th>\n",
       "      <th>100</th>\n",
       "      <th>50</th>\n",
       "      <th>4s</th>\n",
       "      <th>6s</th>\n",
       "      <th>Seasons</th>\n",
       "    </tr>\n",
       "  </thead>\n",
       "  <tbody>\n",
       "    <tr>\n",
       "      <th>count</th>\n",
       "      <td>337.000000</td>\n",
       "      <td>337.000000</td>\n",
       "      <td>337.000000</td>\n",
       "      <td>337.000000</td>\n",
       "      <td>337.000000</td>\n",
       "      <td>337.000000</td>\n",
       "      <td>337.000000</td>\n",
       "      <td>337.000000</td>\n",
       "      <td>337.000000</td>\n",
       "      <td>337.000000</td>\n",
       "      <td>337.000000</td>\n",
       "      <td>337.000000</td>\n",
       "    </tr>\n",
       "    <tr>\n",
       "      <th>mean</th>\n",
       "      <td>26.857567</td>\n",
       "      <td>19.569733</td>\n",
       "      <td>4.563798</td>\n",
       "      <td>394.115727</td>\n",
       "      <td>15.022463</td>\n",
       "      <td>296.833828</td>\n",
       "      <td>106.016053</td>\n",
       "      <td>0.118694</td>\n",
       "      <td>2.139466</td>\n",
       "      <td>34.694362</td>\n",
       "      <td>16.267062</td>\n",
       "      <td>2.982196</td>\n",
       "    </tr>\n",
       "    <tr>\n",
       "      <th>std</th>\n",
       "      <td>28.091430</td>\n",
       "      <td>24.868021</td>\n",
       "      <td>6.099102</td>\n",
       "      <td>695.644705</td>\n",
       "      <td>12.093089</td>\n",
       "      <td>509.400367</td>\n",
       "      <td>43.572306</td>\n",
       "      <td>0.554345</td>\n",
       "      <td>4.917911</td>\n",
       "      <td>64.515445</td>\n",
       "      <td>29.632670</td>\n",
       "      <td>2.052795</td>\n",
       "    </tr>\n",
       "    <tr>\n",
       "      <th>min</th>\n",
       "      <td>1.000000</td>\n",
       "      <td>1.000000</td>\n",
       "      <td>0.000000</td>\n",
       "      <td>0.000000</td>\n",
       "      <td>0.000000</td>\n",
       "      <td>1.000000</td>\n",
       "      <td>0.000000</td>\n",
       "      <td>0.000000</td>\n",
       "      <td>0.000000</td>\n",
       "      <td>0.000000</td>\n",
       "      <td>0.000000</td>\n",
       "      <td>1.000000</td>\n",
       "    </tr>\n",
       "    <tr>\n",
       "      <th>25%</th>\n",
       "      <td>5.000000</td>\n",
       "      <td>3.000000</td>\n",
       "      <td>1.000000</td>\n",
       "      <td>15.000000</td>\n",
       "      <td>4.080000</td>\n",
       "      <td>19.000000</td>\n",
       "      <td>79.160000</td>\n",
       "      <td>0.000000</td>\n",
       "      <td>0.000000</td>\n",
       "      <td>1.000000</td>\n",
       "      <td>0.000000</td>\n",
       "      <td>1.000000</td>\n",
       "    </tr>\n",
       "    <tr>\n",
       "      <th>50%</th>\n",
       "      <td>14.000000</td>\n",
       "      <td>9.000000</td>\n",
       "      <td>2.000000</td>\n",
       "      <td>67.000000</td>\n",
       "      <td>12.560000</td>\n",
       "      <td>57.000000</td>\n",
       "      <td>113.490000</td>\n",
       "      <td>0.000000</td>\n",
       "      <td>0.000000</td>\n",
       "      <td>5.000000</td>\n",
       "      <td>2.000000</td>\n",
       "      <td>2.000000</td>\n",
       "    </tr>\n",
       "    <tr>\n",
       "      <th>75%</th>\n",
       "      <td>42.000000</td>\n",
       "      <td>23.000000</td>\n",
       "      <td>6.000000</td>\n",
       "      <td>404.000000</td>\n",
       "      <td>23.780000</td>\n",
       "      <td>303.000000</td>\n",
       "      <td>132.870000</td>\n",
       "      <td>0.000000</td>\n",
       "      <td>2.000000</td>\n",
       "      <td>35.000000</td>\n",
       "      <td>18.000000</td>\n",
       "      <td>5.000000</td>\n",
       "    </tr>\n",
       "    <tr>\n",
       "      <th>max</th>\n",
       "      <td>110.000000</td>\n",
       "      <td>110.000000</td>\n",
       "      <td>42.000000</td>\n",
       "      <td>3663.000000</td>\n",
       "      <td>53.780000</td>\n",
       "      <td>2825.000000</td>\n",
       "      <td>400.000000</td>\n",
       "      <td>5.000000</td>\n",
       "      <td>32.000000</td>\n",
       "      <td>404.000000</td>\n",
       "      <td>156.000000</td>\n",
       "      <td>7.000000</td>\n",
       "    </tr>\n",
       "  </tbody>\n",
       "</table>\n",
       "</div>"
      ],
      "text/plain": [
       "              Mat        Inns          NO         Runs         Avg  \\\n",
       "count  337.000000  337.000000  337.000000   337.000000  337.000000   \n",
       "mean    26.857567   19.569733    4.563798   394.115727   15.022463   \n",
       "std     28.091430   24.868021    6.099102   695.644705   12.093089   \n",
       "min      1.000000    1.000000    0.000000     0.000000    0.000000   \n",
       "25%      5.000000    3.000000    1.000000    15.000000    4.080000   \n",
       "50%     14.000000    9.000000    2.000000    67.000000   12.560000   \n",
       "75%     42.000000   23.000000    6.000000   404.000000   23.780000   \n",
       "max    110.000000  110.000000   42.000000  3663.000000   53.780000   \n",
       "\n",
       "                BF          SR         100          50          4s  \\\n",
       "count   337.000000  337.000000  337.000000  337.000000  337.000000   \n",
       "mean    296.833828  106.016053    0.118694    2.139466   34.694362   \n",
       "std     509.400367   43.572306    0.554345    4.917911   64.515445   \n",
       "min       1.000000    0.000000    0.000000    0.000000    0.000000   \n",
       "25%      19.000000   79.160000    0.000000    0.000000    1.000000   \n",
       "50%      57.000000  113.490000    0.000000    0.000000    5.000000   \n",
       "75%     303.000000  132.870000    0.000000    2.000000   35.000000   \n",
       "max    2825.000000  400.000000    5.000000   32.000000  404.000000   \n",
       "\n",
       "               6s     Seasons  \n",
       "count  337.000000  337.000000  \n",
       "mean    16.267062    2.982196  \n",
       "std     29.632670    2.052795  \n",
       "min      0.000000    1.000000  \n",
       "25%      0.000000    1.000000  \n",
       "50%      2.000000    2.000000  \n",
       "75%     18.000000    5.000000  \n",
       "max    156.000000    7.000000  "
      ]
     },
     "execution_count": 23,
     "metadata": {},
     "output_type": "execute_result"
    }
   ],
   "source": [
    "df_batting_combined_formatted.describe()"
   ]
  },
  {
   "cell_type": "code",
   "execution_count": 27,
   "id": "a45d807f",
   "metadata": {},
   "outputs": [
    {
     "name": "stdout",
     "output_type": "stream",
     "text": [
      "<class 'pandas.core.frame.DataFrame'>\n",
      "Int64Index: 337 entries, 0 to 336\n",
      "Data columns (total 13 columns):\n",
      " #   Column   Non-Null Count  Dtype  \n",
      "---  ------   --------------  -----  \n",
      " 0   Player   337 non-null    object \n",
      " 1   Mat      337 non-null    int64  \n",
      " 2   Inns     337 non-null    int64  \n",
      " 3   NO       337 non-null    int64  \n",
      " 4   Runs     337 non-null    int64  \n",
      " 5   Avg      337 non-null    float64\n",
      " 6   BF       337 non-null    int64  \n",
      " 7   SR       337 non-null    float64\n",
      " 8   100      337 non-null    int64  \n",
      " 9   50       337 non-null    int64  \n",
      " 10  4s       337 non-null    int64  \n",
      " 11  6s       337 non-null    int64  \n",
      " 12  Seasons  337 non-null    int64  \n",
      "dtypes: float64(2), int64(10), object(1)\n",
      "memory usage: 36.9+ KB\n"
     ]
    }
   ],
   "source": [
    "df_batting_combined_formatted.info()"
   ]
  },
  {
   "cell_type": "markdown",
   "id": "e38f885b",
   "metadata": {},
   "source": [
    "### 4b. Describe and info method on the bowling dataset"
   ]
  },
  {
   "cell_type": "code",
   "execution_count": 24,
   "id": "6c90ebbc",
   "metadata": {},
   "outputs": [
    {
     "data": {
      "text/html": [
       "<div>\n",
       "<style scoped>\n",
       "    .dataframe tbody tr th:only-of-type {\n",
       "        vertical-align: middle;\n",
       "    }\n",
       "\n",
       "    .dataframe tbody tr th {\n",
       "        vertical-align: top;\n",
       "    }\n",
       "\n",
       "    .dataframe thead th {\n",
       "        text-align: right;\n",
       "    }\n",
       "</style>\n",
       "<table border=\"1\" class=\"dataframe\">\n",
       "  <thead>\n",
       "    <tr style=\"text-align: right;\">\n",
       "      <th></th>\n",
       "      <th>Mat</th>\n",
       "      <th>Inns</th>\n",
       "      <th>Ov</th>\n",
       "      <th>Runs</th>\n",
       "      <th>Wkts</th>\n",
       "      <th>Avg</th>\n",
       "      <th>Econ</th>\n",
       "      <th>SR</th>\n",
       "      <th>4w</th>\n",
       "      <th>5w</th>\n",
       "      <th>Seasons</th>\n",
       "    </tr>\n",
       "  </thead>\n",
       "  <tbody>\n",
       "    <tr>\n",
       "      <th>count</th>\n",
       "      <td>227.000000</td>\n",
       "      <td>227.000000</td>\n",
       "      <td>227.000000</td>\n",
       "      <td>227.000000</td>\n",
       "      <td>227.000000</td>\n",
       "      <td>227.000000</td>\n",
       "      <td>227.000000</td>\n",
       "      <td>227.00000</td>\n",
       "      <td>227.000000</td>\n",
       "      <td>227.000000</td>\n",
       "      <td>227.000000</td>\n",
       "    </tr>\n",
       "    <tr>\n",
       "      <th>mean</th>\n",
       "      <td>23.299559</td>\n",
       "      <td>21.409692</td>\n",
       "      <td>70.934361</td>\n",
       "      <td>583.088106</td>\n",
       "      <td>20.634361</td>\n",
       "      <td>37.658987</td>\n",
       "      <td>8.768899</td>\n",
       "      <td>25.61793</td>\n",
       "      <td>0.330396</td>\n",
       "      <td>0.061674</td>\n",
       "      <td>2.709251</td>\n",
       "    </tr>\n",
       "    <tr>\n",
       "      <th>std</th>\n",
       "      <td>23.777511</td>\n",
       "      <td>23.136656</td>\n",
       "      <td>82.979503</td>\n",
       "      <td>645.464175</td>\n",
       "      <td>25.048330</td>\n",
       "      <td>17.159497</td>\n",
       "      <td>1.462822</td>\n",
       "      <td>10.80349</td>\n",
       "      <td>0.729348</td>\n",
       "      <td>0.241094</td>\n",
       "      <td>1.877688</td>\n",
       "    </tr>\n",
       "    <tr>\n",
       "      <th>min</th>\n",
       "      <td>1.000000</td>\n",
       "      <td>1.000000</td>\n",
       "      <td>0.300000</td>\n",
       "      <td>8.000000</td>\n",
       "      <td>1.000000</td>\n",
       "      <td>4.000000</td>\n",
       "      <td>3.750000</td>\n",
       "      <td>3.00000</td>\n",
       "      <td>0.000000</td>\n",
       "      <td>0.000000</td>\n",
       "      <td>1.000000</td>\n",
       "    </tr>\n",
       "    <tr>\n",
       "      <th>25%</th>\n",
       "      <td>6.000000</td>\n",
       "      <td>5.000000</td>\n",
       "      <td>16.000000</td>\n",
       "      <td>140.000000</td>\n",
       "      <td>3.500000</td>\n",
       "      <td>27.500000</td>\n",
       "      <td>7.835000</td>\n",
       "      <td>19.37500</td>\n",
       "      <td>0.000000</td>\n",
       "      <td>0.000000</td>\n",
       "      <td>1.000000</td>\n",
       "    </tr>\n",
       "    <tr>\n",
       "      <th>50%</th>\n",
       "      <td>13.000000</td>\n",
       "      <td>12.000000</td>\n",
       "      <td>35.000000</td>\n",
       "      <td>299.000000</td>\n",
       "      <td>9.000000</td>\n",
       "      <td>34.040000</td>\n",
       "      <td>8.710000</td>\n",
       "      <td>23.25000</td>\n",
       "      <td>0.000000</td>\n",
       "      <td>0.000000</td>\n",
       "      <td>2.000000</td>\n",
       "    </tr>\n",
       "    <tr>\n",
       "      <th>75%</th>\n",
       "      <td>35.000000</td>\n",
       "      <td>31.500000</td>\n",
       "      <td>107.500000</td>\n",
       "      <td>923.000000</td>\n",
       "      <td>30.000000</td>\n",
       "      <td>43.530000</td>\n",
       "      <td>9.425000</td>\n",
       "      <td>29.81000</td>\n",
       "      <td>0.000000</td>\n",
       "      <td>0.000000</td>\n",
       "      <td>4.000000</td>\n",
       "    </tr>\n",
       "    <tr>\n",
       "      <th>max</th>\n",
       "      <td>103.000000</td>\n",
       "      <td>103.000000</td>\n",
       "      <td>394.200000</td>\n",
       "      <td>2823.000000</td>\n",
       "      <td>134.000000</td>\n",
       "      <td>129.000000</td>\n",
       "      <td>16.000000</td>\n",
       "      <td>84.00000</td>\n",
       "      <td>6.000000</td>\n",
       "      <td>1.000000</td>\n",
       "      <td>7.000000</td>\n",
       "    </tr>\n",
       "  </tbody>\n",
       "</table>\n",
       "</div>"
      ],
      "text/plain": [
       "              Mat        Inns          Ov         Runs        Wkts  \\\n",
       "count  227.000000  227.000000  227.000000   227.000000  227.000000   \n",
       "mean    23.299559   21.409692   70.934361   583.088106   20.634361   \n",
       "std     23.777511   23.136656   82.979503   645.464175   25.048330   \n",
       "min      1.000000    1.000000    0.300000     8.000000    1.000000   \n",
       "25%      6.000000    5.000000   16.000000   140.000000    3.500000   \n",
       "50%     13.000000   12.000000   35.000000   299.000000    9.000000   \n",
       "75%     35.000000   31.500000  107.500000   923.000000   30.000000   \n",
       "max    103.000000  103.000000  394.200000  2823.000000  134.000000   \n",
       "\n",
       "              Avg        Econ         SR          4w          5w     Seasons  \n",
       "count  227.000000  227.000000  227.00000  227.000000  227.000000  227.000000  \n",
       "mean    37.658987    8.768899   25.61793    0.330396    0.061674    2.709251  \n",
       "std     17.159497    1.462822   10.80349    0.729348    0.241094    1.877688  \n",
       "min      4.000000    3.750000    3.00000    0.000000    0.000000    1.000000  \n",
       "25%     27.500000    7.835000   19.37500    0.000000    0.000000    1.000000  \n",
       "50%     34.040000    8.710000   23.25000    0.000000    0.000000    2.000000  \n",
       "75%     43.530000    9.425000   29.81000    0.000000    0.000000    4.000000  \n",
       "max    129.000000   16.000000   84.00000    6.000000    1.000000    7.000000  "
      ]
     },
     "execution_count": 24,
     "metadata": {},
     "output_type": "execute_result"
    }
   ],
   "source": [
    "df_bowling_combined_formatted.describe()"
   ]
  },
  {
   "cell_type": "code",
   "execution_count": 28,
   "id": "2b136ed2",
   "metadata": {},
   "outputs": [
    {
     "name": "stdout",
     "output_type": "stream",
     "text": [
      "<class 'pandas.core.frame.DataFrame'>\n",
      "Int64Index: 227 entries, 0 to 226\n",
      "Data columns (total 12 columns):\n",
      " #   Column   Non-Null Count  Dtype  \n",
      "---  ------   --------------  -----  \n",
      " 0   Player   227 non-null    object \n",
      " 1   Mat      227 non-null    int64  \n",
      " 2   Inns     227 non-null    int64  \n",
      " 3   Ov       227 non-null    float64\n",
      " 4   Runs     227 non-null    int64  \n",
      " 5   Wkts     227 non-null    int64  \n",
      " 6   Avg      227 non-null    float64\n",
      " 7   Econ     227 non-null    float64\n",
      " 8   SR       227 non-null    float64\n",
      " 9   4w       227 non-null    int64  \n",
      " 10  5w       227 non-null    int64  \n",
      " 11  Seasons  227 non-null    int64  \n",
      "dtypes: float64(4), int64(7), object(1)\n",
      "memory usage: 23.1+ KB\n"
     ]
    }
   ],
   "source": [
    "df_bowling_combined_formatted.info()"
   ]
  },
  {
   "cell_type": "markdown",
   "id": "97ef7412",
   "metadata": {},
   "source": [
    "## 5. Perform Analysis on the datasets\n",
    "We want to analyze the datasets to identify the best bowlers and batters based on statistics. So the key statistic for every batsman is to score runs while the key statistic for bowlers should be wickets. Will use a correlation matrix to identify features that can affect these values."
   ]
  },
  {
   "cell_type": "code",
   "execution_count": 29,
   "id": "790ccc6c",
   "metadata": {},
   "outputs": [
    {
     "data": {
      "text/plain": [
       "Runs       1.000000\n",
       "BF         0.996522\n",
       "4s         0.985623\n",
       "50         0.953246\n",
       "Inns       0.939371\n",
       "6s         0.935120\n",
       "Mat        0.779327\n",
       "Avg        0.686781\n",
       "Seasons    0.685618\n",
       "100        0.613143\n",
       "NO         0.555267\n",
       "SR         0.325365\n",
       "Name: Runs, dtype: float64"
      ]
     },
     "execution_count": 29,
     "metadata": {},
     "output_type": "execute_result"
    }
   ],
   "source": [
    "df_batting_combined_formatted.corr()['Runs'].sort_values(ascending=False)"
   ]
  },
  {
   "cell_type": "markdown",
   "id": "95afa77e",
   "metadata": {},
   "source": [
    "So some key observations from the correlation matrix above is that balls faced, 4s hit, number of 50s, number of innings, and number of 6s are strongly correlated to the number of runs scored. The balls faced and 4s hit is obvious since more balls you face the more runs you can score and also 4s are relatively easier to come by than 6s so they will be more impactful on runs.\n",
    "\n",
    "Something that is interesting is number of innings is not as strongly correlated to runs as balls faced which I would assume should be since more innings should equal more runs."
   ]
  },
  {
   "cell_type": "code",
   "execution_count": 30,
   "id": "61863d97",
   "metadata": {},
   "outputs": [
    {
     "data": {
      "text/plain": [
       "Wkts       1.000000\n",
       "Runs       0.970196\n",
       "Ov         0.969826\n",
       "Inns       0.949877\n",
       "Mat        0.903206\n",
       "Seasons    0.850926\n",
       "4w         0.659135\n",
       "5w         0.364972\n",
       "SR        -0.158407\n",
       "Avg       -0.220108\n",
       "Econ      -0.234597\n",
       "Name: Wkts, dtype: float64"
      ]
     },
     "execution_count": 30,
     "metadata": {},
     "output_type": "execute_result"
    }
   ],
   "source": [
    "df_bowling_combined_formatted.corr()['Wkts'].sort_values(ascending=False)"
   ]
  },
  {
   "cell_type": "markdown",
   "id": "31051c64",
   "metadata": {},
   "source": [
    "The runs, overs, innings, and matches being strongly correlated to wickets makes sense since it means more opportunities to get wickets. Also to note is the negative correlation between wickets and Strike Rates, Averages, and Economy since the more wickets you take the higher the likelihood of you having a lower strike rate, economy, and average. Having a lower stike rate, economy rate, and average is very good and is one of the primary goals of a limited over bowler in addition to taking wickets."
   ]
  },
  {
   "cell_type": "markdown",
   "id": "8f360ca2",
   "metadata": {},
   "source": [
    "## 6. Generating charts for further analysis\n",
    "To start off the analysis, I will create some charts to visualize the top run scorers, players with the highest strike rate, highest average, most 50s, and most 100s."
   ]
  },
  {
   "cell_type": "markdown",
   "id": "d4bf8d17",
   "metadata": {},
   "source": [
    "#### 7a. The plot below will visualize the top 25 batsmen based on T20 runs scored."
   ]
  },
  {
   "cell_type": "code",
   "execution_count": 31,
   "id": "3f80711e",
   "metadata": {},
   "outputs": [
    {
     "data": {
      "image/png": "[encoded data removed]",
      "text/plain": [
       "<Figure size 1440x504 with 1 Axes>"
      ]
     },
     "metadata": {
      "needs_background": "light"
     },
     "output_type": "display_data"
    }
   ],
   "source": [
    "df_most_runs = df_batting_combined_formatted.sort_values(by = ['Runs'], ascending = False)\n",
    "plt.figure(figsize = (20, 7))\n",
    "plt.title(\"25 Batsmen with highest career T20 Runs\")\n",
    "sns.barplot(x = df_most_runs[\"Runs\"], y = df_most_runs[\"Player\"][:25], palette = \"husl\");"
   ]
  },
  {
   "cell_type": "markdown",
   "id": "6a01c7aa",
   "metadata": {},
   "source": [
    "#### 7b. The plot below will visualize the top 25 batsmen based on T20 batting Average.\n",
    "Because the Average can easily be skewed due to tailenders having a lot of not out innings, I will introduce a minimum balls faced threshold of 200."
   ]
  },
  {
   "cell_type": "code",
   "execution_count": 32,
   "id": "68f409f1",
   "metadata": {},
   "outputs": [
    {
     "data": {
      "image/png": "[encoded data removed]",
      "text/plain": [
       "<Figure size 1440x504 with 1 Axes>"
      ]
     },
     "metadata": {
      "needs_background": "light"
     },
     "output_type": "display_data"
    }
   ],
   "source": [
    "df_highest_avg = df_batting_combined_formatted[df_batting_combined_formatted['BF'] >= 200].sort_values(by = ['Avg'], ascending = False)\n",
    "plt.figure(figsize = (20, 7))\n",
    "plt.title(\"25 Batsmen with highest career T20 Batting Average\")\n",
    "sns.barplot(x = df_highest_avg[\"Avg\"], y = df_highest_avg[\"Player\"][:25], palette = \"bright\");"
   ]
  },
  {
   "cell_type": "markdown",
   "id": "4905a407",
   "metadata": {},
   "source": [
    "#### 7c. The plot below will visualize the top 25 batsmen based on T20 Strike Rate.\n",
    "Because the Strike Rate can easily be skewed due to tailenders having a lot of pinch hitting innings in very few deliveries, I will introduce a minimum balls faced threshold of 200."
   ]
  },
  {
   "cell_type": "code",
   "execution_count": 33,
   "id": "b91e0941",
   "metadata": {},
   "outputs": [
    {
     "data": {
      "image/png": "[encoded data removed]",
      "text/plain": [
       "<Figure size 1440x504 with 1 Axes>"
      ]
     },
     "metadata": {
      "needs_background": "light"
     },
     "output_type": "display_data"
    }
   ],
   "source": [
    "df_highest_strike_rate = df_batting_combined_formatted[df_batting_combined_formatted['BF'] >= 200].sort_values(by = ['SR'], ascending = False)\n",
    "plt.figure(figsize = (20, 7))\n",
    "plt.title(\"25 Batsmen with highest career T20 Strike Rate\")\n",
    "sns.barplot(x = df_highest_strike_rate[\"SR\"], y = df_highest_strike_rate[\"Player\"][:25], palette = \"Set2\");"
   ]
  },
  {
   "cell_type": "markdown",
   "id": "da9dd8bb",
   "metadata": {},
   "source": [
    "After doing a quick scan of the charts above, an acceptable batting average for T20 cricket can be between 30 and 40. So I would first like to view the number of batsmen that have an average over 35. In addition to this, strike rate matters more to a T20 batsman than to any other format so strike rate will also be factored in. An ideal strike rate for a T20 batsman is anything above 130 so that will be our filter."
   ]
  },
  {
   "cell_type": "markdown",
   "id": "7e7b7eae",
   "metadata": {},
   "source": [
    "#### 7d. \"Great\" batsmen in terms of T20 Average and Strike Rate\n",
    "Great would be defined as a batsman with an Average greater than 35 and a Strike rate surpassing 130."
   ]
  },
  {
   "cell_type": "code",
   "execution_count": 34,
   "id": "802c4fb7",
   "metadata": {},
   "outputs": [
    {
     "data": {
      "text/html": [
       "<div>\n",
       "<style scoped>\n",
       "    .dataframe tbody tr th:only-of-type {\n",
       "        vertical-align: middle;\n",
       "    }\n",
       "\n",
       "    .dataframe tbody tr th {\n",
       "        vertical-align: top;\n",
       "    }\n",
       "\n",
       "    .dataframe thead th {\n",
       "        text-align: right;\n",
       "    }\n",
       "</style>\n",
       "<table border=\"1\" class=\"dataframe\">\n",
       "  <thead>\n",
       "    <tr style=\"text-align: right;\">\n",
       "      <th></th>\n",
       "      <th>Player</th>\n",
       "      <th>Mat</th>\n",
       "      <th>Inns</th>\n",
       "      <th>NO</th>\n",
       "      <th>Runs</th>\n",
       "      <th>Avg</th>\n",
       "      <th>BF</th>\n",
       "      <th>SR</th>\n",
       "      <th>100</th>\n",
       "      <th>50</th>\n",
       "      <th>4s</th>\n",
       "      <th>6s</th>\n",
       "      <th>Seasons</th>\n",
       "    </tr>\n",
       "  </thead>\n",
       "  <tbody>\n",
       "    <tr>\n",
       "      <th>0</th>\n",
       "      <td>AB de Villiers</td>\n",
       "      <td>80</td>\n",
       "      <td>77</td>\n",
       "      <td>17</td>\n",
       "      <td>2592</td>\n",
       "      <td>42.34</td>\n",
       "      <td>1629</td>\n",
       "      <td>156.15</td>\n",
       "      <td>1</td>\n",
       "      <td>25</td>\n",
       "      <td>195</td>\n",
       "      <td>148</td>\n",
       "      <td>6</td>\n",
       "    </tr>\n",
       "    <tr>\n",
       "      <th>9</th>\n",
       "      <td>Aiden Markram</td>\n",
       "      <td>20</td>\n",
       "      <td>18</td>\n",
       "      <td>5</td>\n",
       "      <td>527</td>\n",
       "      <td>38.42</td>\n",
       "      <td>393</td>\n",
       "      <td>130.86</td>\n",
       "      <td>0</td>\n",
       "      <td>3</td>\n",
       "      <td>37</td>\n",
       "      <td>23</td>\n",
       "      <td>2</td>\n",
       "    </tr>\n",
       "    <tr>\n",
       "      <th>55</th>\n",
       "      <td>Chris Lynn</td>\n",
       "      <td>39</td>\n",
       "      <td>39</td>\n",
       "      <td>3</td>\n",
       "      <td>1265</td>\n",
       "      <td>37.41</td>\n",
       "      <td>887</td>\n",
       "      <td>140.90</td>\n",
       "      <td>0</td>\n",
       "      <td>10</td>\n",
       "      <td>126</td>\n",
       "      <td>63</td>\n",
       "      <td>5</td>\n",
       "    </tr>\n",
       "    <tr>\n",
       "      <th>69</th>\n",
       "      <td>David Warner</td>\n",
       "      <td>79</td>\n",
       "      <td>79</td>\n",
       "      <td>13</td>\n",
       "      <td>3356</td>\n",
       "      <td>49.92</td>\n",
       "      <td>2368</td>\n",
       "      <td>138.33</td>\n",
       "      <td>2</td>\n",
       "      <td>32</td>\n",
       "      <td>327</td>\n",
       "      <td>113</td>\n",
       "      <td>6</td>\n",
       "    </tr>\n",
       "    <tr>\n",
       "      <th>76</th>\n",
       "      <td>Devon Conway</td>\n",
       "      <td>7</td>\n",
       "      <td>7</td>\n",
       "      <td>1</td>\n",
       "      <td>252</td>\n",
       "      <td>42.00</td>\n",
       "      <td>173</td>\n",
       "      <td>145.66</td>\n",
       "      <td>0</td>\n",
       "      <td>3</td>\n",
       "      <td>22</td>\n",
       "      <td>12</td>\n",
       "      <td>1</td>\n",
       "    </tr>\n",
       "    <tr>\n",
       "      <th>107</th>\n",
       "      <td>Hashim Amla</td>\n",
       "      <td>16</td>\n",
       "      <td>16</td>\n",
       "      <td>3</td>\n",
       "      <td>577</td>\n",
       "      <td>43.08</td>\n",
       "      <td>407</td>\n",
       "      <td>138.88</td>\n",
       "      <td>2</td>\n",
       "      <td>3</td>\n",
       "      <td>60</td>\n",
       "      <td>21</td>\n",
       "      <td>2</td>\n",
       "    </tr>\n",
       "    <tr>\n",
       "      <th>135</th>\n",
       "      <td>Jonny Bairstow</td>\n",
       "      <td>39</td>\n",
       "      <td>39</td>\n",
       "      <td>3</td>\n",
       "      <td>1291</td>\n",
       "      <td>37.83</td>\n",
       "      <td>905</td>\n",
       "      <td>142.59</td>\n",
       "      <td>1</td>\n",
       "      <td>9</td>\n",
       "      <td>133</td>\n",
       "      <td>55</td>\n",
       "      <td>4</td>\n",
       "    </tr>\n",
       "    <tr>\n",
       "      <th>136</th>\n",
       "      <td>Jos Buttler</td>\n",
       "      <td>82</td>\n",
       "      <td>81</td>\n",
       "      <td>10</td>\n",
       "      <td>2831</td>\n",
       "      <td>38.67</td>\n",
       "      <td>1891</td>\n",
       "      <td>149.39</td>\n",
       "      <td>5</td>\n",
       "      <td>15</td>\n",
       "      <td>277</td>\n",
       "      <td>135</td>\n",
       "      <td>7</td>\n",
       "    </tr>\n",
       "    <tr>\n",
       "      <th>141</th>\n",
       "      <td>KL Rahul</td>\n",
       "      <td>84</td>\n",
       "      <td>82</td>\n",
       "      <td>16</td>\n",
       "      <td>3561</td>\n",
       "      <td>53.78</td>\n",
       "      <td>2549</td>\n",
       "      <td>140.63</td>\n",
       "      <td>4</td>\n",
       "      <td>31</td>\n",
       "      <td>303</td>\n",
       "      <td>156</td>\n",
       "      <td>6</td>\n",
       "    </tr>\n",
       "    <tr>\n",
       "      <th>230</th>\n",
       "      <td>Quinton De Kock</td>\n",
       "      <td>15</td>\n",
       "      <td>15</td>\n",
       "      <td>1</td>\n",
       "      <td>508</td>\n",
       "      <td>36.29</td>\n",
       "      <td>341</td>\n",
       "      <td>148.97</td>\n",
       "      <td>1</td>\n",
       "      <td>3</td>\n",
       "      <td>47</td>\n",
       "      <td>23</td>\n",
       "      <td>1</td>\n",
       "    </tr>\n",
       "    <tr>\n",
       "      <th>238</th>\n",
       "      <td>Rajat Patidar</td>\n",
       "      <td>12</td>\n",
       "      <td>11</td>\n",
       "      <td>1</td>\n",
       "      <td>404</td>\n",
       "      <td>36.62</td>\n",
       "      <td>280</td>\n",
       "      <td>133.63</td>\n",
       "      <td>1</td>\n",
       "      <td>2</td>\n",
       "      <td>30</td>\n",
       "      <td>21</td>\n",
       "      <td>2</td>\n",
       "    </tr>\n",
       "    <tr>\n",
       "      <th>245</th>\n",
       "      <td>Ravindra Jadeja</td>\n",
       "      <td>99</td>\n",
       "      <td>77</td>\n",
       "      <td>42</td>\n",
       "      <td>1119</td>\n",
       "      <td>36.46</td>\n",
       "      <td>842</td>\n",
       "      <td>131.94</td>\n",
       "      <td>0</td>\n",
       "      <td>2</td>\n",
       "      <td>84</td>\n",
       "      <td>41</td>\n",
       "      <td>7</td>\n",
       "    </tr>\n",
       "    <tr>\n",
       "      <th>305</th>\n",
       "      <td>Tilak Varma</td>\n",
       "      <td>14</td>\n",
       "      <td>14</td>\n",
       "      <td>3</td>\n",
       "      <td>397</td>\n",
       "      <td>36.09</td>\n",
       "      <td>303</td>\n",
       "      <td>131.02</td>\n",
       "      <td>0</td>\n",
       "      <td>2</td>\n",
       "      <td>29</td>\n",
       "      <td>16</td>\n",
       "      <td>1</td>\n",
       "    </tr>\n",
       "    <tr>\n",
       "      <th>326</th>\n",
       "      <td>Virat Kohli</td>\n",
       "      <td>100</td>\n",
       "      <td>100</td>\n",
       "      <td>13</td>\n",
       "      <td>3487</td>\n",
       "      <td>41.03</td>\n",
       "      <td>2618</td>\n",
       "      <td>130.23</td>\n",
       "      <td>5</td>\n",
       "      <td>25</td>\n",
       "      <td>302</td>\n",
       "      <td>108</td>\n",
       "      <td>7</td>\n",
       "    </tr>\n",
       "  </tbody>\n",
       "</table>\n",
       "</div>"
      ],
      "text/plain": [
       "              Player  Mat  Inns  NO  Runs    Avg    BF      SR  100  50   4s  \\\n",
       "0     AB de Villiers   80    77  17  2592  42.34  1629  156.15    1  25  195   \n",
       "9      Aiden Markram   20    18   5   527  38.42   393  130.86    0   3   37   \n",
       "55        Chris Lynn   39    39   3  1265  37.41   887  140.90    0  10  126   \n",
       "69      David Warner   79    79  13  3356  49.92  2368  138.33    2  32  327   \n",
       "76      Devon Conway    7     7   1   252  42.00   173  145.66    0   3   22   \n",
       "107      Hashim Amla   16    16   3   577  43.08   407  138.88    2   3   60   \n",
       "135   Jonny Bairstow   39    39   3  1291  37.83   905  142.59    1   9  133   \n",
       "136      Jos Buttler   82    81  10  2831  38.67  1891  149.39    5  15  277   \n",
       "141         KL Rahul   84    82  16  3561  53.78  2549  140.63    4  31  303   \n",
       "230  Quinton De Kock   15    15   1   508  36.29   341  148.97    1   3   47   \n",
       "238    Rajat Patidar   12    11   1   404  36.62   280  133.63    1   2   30   \n",
       "245  Ravindra Jadeja   99    77  42  1119  36.46   842  131.94    0   2   84   \n",
       "305      Tilak Varma   14    14   3   397  36.09   303  131.02    0   2   29   \n",
       "326      Virat Kohli  100   100  13  3487  41.03  2618  130.23    5  25  302   \n",
       "\n",
       "      6s  Seasons  \n",
       "0    148        6  \n",
       "9     23        2  \n",
       "55    63        5  \n",
       "69   113        6  \n",
       "76    12        1  \n",
       "107   21        2  \n",
       "135   55        4  \n",
       "136  135        7  \n",
       "141  156        6  \n",
       "230   23        1  \n",
       "238   21        2  \n",
       "245   41        7  \n",
       "305   16        1  \n",
       "326  108        7  "
      ]
     },
     "execution_count": 34,
     "metadata": {},
     "output_type": "execute_result"
    }
   ],
   "source": [
    "df_batting_combined_formatted[(df_batting_combined_formatted['Avg'] >= 35) & (df_batting_combined_formatted['SR'] >= 130)]"
   ]
  },
  {
   "cell_type": "markdown",
   "id": "26b54631",
   "metadata": {},
   "source": [
    "#### 7e. \"Exceptional\" batsmen in terms of T20 Average and Strike Rate\n",
    "Exceptional would be defined as batsmen with an average surpassing 40 and a strike rate surpassing 140."
   ]
  },
  {
   "cell_type": "code",
   "execution_count": 35,
   "id": "2e153e74",
   "metadata": {},
   "outputs": [
    {
     "data": {
      "text/html": [
       "<div>\n",
       "<style scoped>\n",
       "    .dataframe tbody tr th:only-of-type {\n",
       "        vertical-align: middle;\n",
       "    }\n",
       "\n",
       "    .dataframe tbody tr th {\n",
       "        vertical-align: top;\n",
       "    }\n",
       "\n",
       "    .dataframe thead th {\n",
       "        text-align: right;\n",
       "    }\n",
       "</style>\n",
       "<table border=\"1\" class=\"dataframe\">\n",
       "  <thead>\n",
       "    <tr style=\"text-align: right;\">\n",
       "      <th></th>\n",
       "      <th>Player</th>\n",
       "      <th>Mat</th>\n",
       "      <th>Inns</th>\n",
       "      <th>NO</th>\n",
       "      <th>Runs</th>\n",
       "      <th>Avg</th>\n",
       "      <th>BF</th>\n",
       "      <th>SR</th>\n",
       "      <th>100</th>\n",
       "      <th>50</th>\n",
       "      <th>4s</th>\n",
       "      <th>6s</th>\n",
       "      <th>Seasons</th>\n",
       "    </tr>\n",
       "  </thead>\n",
       "  <tbody>\n",
       "    <tr>\n",
       "      <th>0</th>\n",
       "      <td>AB de Villiers</td>\n",
       "      <td>80</td>\n",
       "      <td>77</td>\n",
       "      <td>17</td>\n",
       "      <td>2592</td>\n",
       "      <td>42.34</td>\n",
       "      <td>1629</td>\n",
       "      <td>156.15</td>\n",
       "      <td>1</td>\n",
       "      <td>25</td>\n",
       "      <td>195</td>\n",
       "      <td>148</td>\n",
       "      <td>6</td>\n",
       "    </tr>\n",
       "    <tr>\n",
       "      <th>76</th>\n",
       "      <td>Devon Conway</td>\n",
       "      <td>7</td>\n",
       "      <td>7</td>\n",
       "      <td>1</td>\n",
       "      <td>252</td>\n",
       "      <td>42.00</td>\n",
       "      <td>173</td>\n",
       "      <td>145.66</td>\n",
       "      <td>0</td>\n",
       "      <td>3</td>\n",
       "      <td>22</td>\n",
       "      <td>12</td>\n",
       "      <td>1</td>\n",
       "    </tr>\n",
       "    <tr>\n",
       "      <th>141</th>\n",
       "      <td>KL Rahul</td>\n",
       "      <td>84</td>\n",
       "      <td>82</td>\n",
       "      <td>16</td>\n",
       "      <td>3561</td>\n",
       "      <td>53.78</td>\n",
       "      <td>2549</td>\n",
       "      <td>140.63</td>\n",
       "      <td>4</td>\n",
       "      <td>31</td>\n",
       "      <td>303</td>\n",
       "      <td>156</td>\n",
       "      <td>6</td>\n",
       "    </tr>\n",
       "  </tbody>\n",
       "</table>\n",
       "</div>"
      ],
      "text/plain": [
       "             Player  Mat  Inns  NO  Runs    Avg    BF      SR  100  50   4s  \\\n",
       "0    AB de Villiers   80    77  17  2592  42.34  1629  156.15    1  25  195   \n",
       "76     Devon Conway    7     7   1   252  42.00   173  145.66    0   3   22   \n",
       "141        KL Rahul   84    82  16  3561  53.78  2549  140.63    4  31  303   \n",
       "\n",
       "      6s  Seasons  \n",
       "0    148        6  \n",
       "76    12        1  \n",
       "141  156        6  "
      ]
     },
     "execution_count": 35,
     "metadata": {},
     "output_type": "execute_result"
    }
   ],
   "source": [
    "df_batting_combined_formatted[(df_batting_combined_formatted['Avg'] >= 40) & (df_batting_combined_formatted['SR'] >= 140)]"
   ]
  },
  {
   "cell_type": "markdown",
   "id": "4c87a280",
   "metadata": {},
   "source": [
    "#### 7f. Percentage of total 50s scored by a single player\n",
    "So simply viewing a bar chart of 50s scored will not give us a good picture of how rare it is to score multiple 50s in a T20 career. To better paint a picture, I will calculate the percentage of total 50s scored by all players that a single player has scored and show the 20 players with the highest percentage."
   ]
  },
  {
   "cell_type": "code",
   "execution_count": 36,
   "id": "6a851ca9",
   "metadata": {},
   "outputs": [
    {
     "data": {
      "image/png": "[encoded data removed]",
      "text/plain": [
       "<Figure size 432x576 with 1 Axes>"
      ]
     },
     "metadata": {},
     "output_type": "display_data"
    }
   ],
   "source": [
    "sum_50 = df_batting_combined_formatted[\"50\"].sum()\n",
    "df_percentage_50 = df_batting_combined_formatted\n",
    "df_percentage_50[\"Percentage_50\"] = round((df_batting_combined_formatted[\"50\"] / sum_50) * 100, 2)\n",
    "df_percentage_50 = df_percentage_50.sort_values(by=\"Percentage_50\", ascending=False)\n",
    "df_percentage_50[\"custom_label\"] = df_percentage_50[\"Player\"] + \"\\n\" + df_percentage_50[\"Percentage_50\"].astype(str) + \"% or \" + df_percentage_50[\"50\"].astype(str)\n",
    "\n",
    "plt.figure(figsize = (6, 8))\n",
    "plt.pie(df_percentage_50[:20].value_counts(), labels=df_percentage_50[\"custom_label\"][:20], radius = 1.4)\n",
    "circle = plt.Circle((0, 0), 0.8, color='white')\n",
    "plt.title(\"Percentage of total 50s scored by a single player (Total=721)\", pad=60)\n",
    "plt.gca().add_artist(circle)\n",
    "plt.show()"
   ]
  },
  {
   "cell_type": "markdown",
   "id": "88c1f971",
   "metadata": {},
   "source": [
    "#### 7g. Pie Chart of 100s\n",
    "So simply viewing a bar chart of 100s scored will not give us a good picture of how rare it is to score a single 100 in a T20 career. To better paint a picture, I will calculate the percentage of total 100s of all players involved that a single player has scored and show the ones with the 25 highest percentage."
   ]
  },
  {
   "cell_type": "code",
   "execution_count": 37,
   "id": "352f33f0",
   "metadata": {},
   "outputs": [
    {
     "data": {
      "image/png": "[encoded data removed]",
      "text/plain": [
       "<Figure size 432x576 with 1 Axes>"
      ]
     },
     "metadata": {},
     "output_type": "display_data"
    }
   ],
   "source": [
    "sum_100 = df_batting_combined_formatted[\"100\"].sum()\n",
    "df_percentage_100 = df_batting_combined_formatted\n",
    "df_percentage_100[\"Percentage_100\"] = round((df_batting_combined_formatted[\"100\"] / sum_100) * 100, 2)\n",
    "df_percentage_100 = df_percentage_100.sort_values(by=\"Percentage_100\", ascending=False)\n",
    "df_percentage_100[\"custom_label\"] = df_percentage_100[\"Player\"] + \"\\n\" + df_percentage_100[\"Percentage_100\"].astype(str) + \"% or \" + df_percentage_100[\"100\"].astype(str)\n",
    "\n",
    "plt.figure(figsize = (6, 8))\n",
    "plt.pie(df_percentage_100[:20].value_counts(), labels=df_percentage_100[\"custom_label\"][:20], radius = 1.4)\n",
    "circle = plt.Circle((0, 0), 0.8, color='white')\n",
    "plt.title(\"Percentage of total 100s scored by a single player (Total=40)\", pad=60)\n",
    "plt.gca().add_artist(circle)\n",
    "plt.show()"
   ]
  },
  {
   "cell_type": "markdown",
   "id": "b71a8a57",
   "metadata": {},
   "source": [
    "## 8. Trying to understand what variables influence Runs Scored\n",
    "Before establishing a criteria to determine the best batsmen from a statistical point of view, I wanted to understand which factors can impact the total runs scored. The purpose of this section is to identify what can a batter improve on specifically to influence their runs."
   ]
  },
  {
   "cell_type": "markdown",
   "id": "1f7314e3",
   "metadata": {},
   "source": [
    "As we saw in the correlation matrix above, the balls faced is strongly correlated to runs scored. The question I want to answer now, does simply facing more balls than everyone else automatically mean you will score more runs than your peers? I will answer this question by plotting the top 25 players based on most balls faced and their corresponding runs. The expected outcome is to see the players with most balls faced will have the most runs."
   ]
  },
  {
   "cell_type": "code",
   "execution_count": 42,
   "id": "c57d8af4",
   "metadata": {},
   "outputs": [
    {
     "data": {
      "image/png": "[encoded data removed]",
      "text/plain": [
       "<Figure size 1440x576 with 1 Axes>"
      ]
     },
     "metadata": {
      "needs_background": "light"
     },
     "output_type": "display_data"
    }
   ],
   "source": [
    "plt.figure(figsize = (20, 8))\n",
    "x = np.arange(25)\n",
    "most_balls_faced = df_batting_combined_formatted.sort_values(by=\"BF\", ascending=False)[:25]\n",
    "plt.bar(x-0.2, most_balls_faced[\"Runs\"], width= 0.35, label='Runs', color='skyblue')\n",
    "plt.bar(x+0.2, most_balls_faced[\"BF\"], width= 0.35, label='Balls Faced', color='red')\n",
    "\n",
    "plt.ylabel(\"Balls Faced or Runs Scored\")\n",
    "plt.legend([\"Runs\", \"Balls Faced\"])\n",
    "plt.title(\"Runs Scored vs Balls Faced for Top 25 Players based on Most Balls Faced\")\n",
    "\n",
    "plt.show()"
   ]
  },
  {
   "cell_type": "markdown",
   "id": "249c57c8",
   "metadata": {},
   "source": [
    "What this plot tells us is that the players who face more balls indeed do have a higher chance of scoring more runs. With a few minor exceptions where some players scored a little less than others that faced lesser balls than them, then it is safe to say that increasing the number of balls faced will contribute to more runs scored."
   ]
  },
  {
   "cell_type": "markdown",
   "id": "72a99dc2",
   "metadata": {},
   "source": [
    "The next question is whether strike rate has an impact on the number of runs scored. For this we will introduce a minimum of 200 balls faced to exclude lower order hitters that may skew the dataset."
   ]
  },
  {
   "cell_type": "code",
   "execution_count": 43,
   "id": "0f8a045d",
   "metadata": {},
   "outputs": [
    {
     "data": {
      "image/png": "[encoded data removed]",
      "text/plain": [
       "<Figure size 1440x576 with 1 Axes>"
      ]
     },
     "metadata": {
      "needs_background": "light"
     },
     "output_type": "display_data"
    }
   ],
   "source": [
    "plt.figure(figsize = (20, 8))\n",
    "x = np.arange(25)\n",
    "highest_strike_rates = df_batting_combined_formatted[df_batting_combined_formatted[\"BF\"] >=200].sort_values(by=\"SR\", ascending=False)[:25]\n",
    "plt.bar(x-0.2, highest_strike_rates[\"Runs\"], width= 0.35, label='Runs', color='orange')\n",
    "plt.bar(x+0.2, highest_strike_rates[\"SR\"], width= 0.35, label='Strike Rate', color='green')\n",
    "\n",
    "plt.ylabel(\"Runs Scored or Strike Rate\")\n",
    "plt.legend([\"Runs\", \"Strike Rate\"])\n",
    "plt.title(\"Runs Scored vs Strike Rate for Top 25 Players based on Highest Strike Rates\")\n",
    "\n",
    "plt.show()"
   ]
  },
  {
   "cell_type": "markdown",
   "id": "57b1e6aa",
   "metadata": {},
   "source": [
    "As the chart shows above, the strike rate alone does not have a direct influence on your runs scored or else the chart would look a lot like the one above for balls faced vs runs scored. That being said, strike rate does have an impact on the runs you score since a higher strike rate means more efficient scoring."
   ]
  },
  {
   "cell_type": "markdown",
   "id": "f692668c",
   "metadata": {},
   "source": [
    "Another question I want to pose is whether scoring more boundaries has an impact on the runs scored. To answer this I will count the total number of boundaries scored by a player and then compare them to the runs scored to see if that has a significant impact on the runs scored by a player. My expectation is that more boundaries will be scored by the players with the most runs. The counter argument might be that players that can easily score 2s and 3s may not rely on boundaries as much and may be able to score a lot of runs."
   ]
  },
  {
   "cell_type": "code",
   "execution_count": 47,
   "id": "f056e758",
   "metadata": {},
   "outputs": [
    {
     "data": {
      "image/png": "[encoded data removed]",
      "text/plain": [
       "<Figure size 1440x576 with 1 Axes>"
      ]
     },
     "metadata": {
      "needs_background": "light"
     },
     "output_type": "display_data"
    }
   ],
   "source": [
    "total_boundaries = df_batting_combined_formatted\n",
    "total_boundaries[\"total_boundaries\"] = df_batting_combined_formatted[\"4s\"] + df_batting_combined_formatted[\"6s\"]\n",
    "\n",
    "total_boundaries = total_boundaries.sort_values(by=\"total_boundaries\", ascending=False)[:25]\n",
    "\n",
    "plt.figure(figsize = (20, 8))\n",
    "x = np.arange(25)\n",
    "plt.bar(x-0.2, total_boundaries[\"Runs\"], width= 0.35, label='Runs', color='violet')\n",
    "plt.bar(x+0.2, total_boundaries[\"total_boundaries\"], width= 0.35, label='Total Boundaries', color='dodgerblue')\n",
    "\n",
    "plt.ylabel(\"Runs Scored or Boundaries Hit\")\n",
    "plt.legend([\"Runs\", \"Total Boundaries\"])\n",
    "plt.title(\"Runs Scored vs Boundaries Hit for Top 25 Players based on Most Boundaries\")\n",
    "\n",
    "plt.show()\n"
   ]
  },
  {
   "cell_type": "markdown",
   "id": "f07ec2a1",
   "metadata": {},
   "source": [
    "So scoring more boundaries does have a direct impact on runs scored. As the bar chart shows the more boundaries are hit by players who score the most runs. This is very interesting since it indicates you do not need an insanely high strike rate but just the ability to score boundaries often."
   ]
  },
  {
   "cell_type": "markdown",
   "id": "74879ffa",
   "metadata": {},
   "source": [
    "In the same thought as boundaries to runs scored, another interesting question is whether scoring more landmarks such as half centuries and centuries affect runs scored. My expectation is that the more landmarks you have the higher the runs scored. I am expecting a bar chart similiar to the one above for boundaries hit vs runs scored and balls faced vs runs scored."
   ]
  },
  {
   "cell_type": "code",
   "execution_count": 50,
   "id": "2577f565",
   "metadata": {},
   "outputs": [
    {
     "data": {
      "image/png": "[encoded data removed]",
      "text/plain": [
       "<Figure size 1440x576 with 1 Axes>"
      ]
     },
     "metadata": {
      "needs_background": "light"
     },
     "output_type": "display_data"
    }
   ],
   "source": [
    "total_landmarks = df_batting_combined_formatted\n",
    "# Equalling 100 to 2 50s since it holds a bigger weight than a 50.\n",
    "total_landmarks[\"total_landmarks\"] = df_batting_combined_formatted[\"50\"] + (df_batting_combined_formatted[\"100\"] * 2)\n",
    "\n",
    "total_landmarks = total_landmarks.sort_values(by=\"total_landmarks\", ascending=False)[:25]\n",
    "\n",
    "plt.figure(figsize = (20, 8))\n",
    "x = np.arange(25)\n",
    "plt.bar(x-0.2, total_landmarks[\"Runs\"], width= 0.35, label='Runs', color='coral')\n",
    "plt.bar(x+0.2, total_landmarks[\"total_landmarks\"], width= 0.35, label='Total Landmarks', color='forestgreen')\n",
    "\n",
    "plt.ylabel(\"Runs Scored or Landmarks Reached\")\n",
    "plt.legend([\"Runs\", \"Landmarks Scored\"])\n",
    "plt.title(\"Runs Scored vs number of landmarks scored sorted by top 25 players with most landmarks (50s or 100s)\")\n",
    "\n",
    "plt.show()\n"
   ]
  },
  {
   "cell_type": "markdown",
   "id": "ec5d30d7",
   "metadata": {},
   "source": [
    "This one is interesting since it doesn't have the exact same effect as the boundaries hit and balls faced chart. As you can see there is quite some variation in the chart heights and they do not uniformly drop indicating that landmarks achieved does not have a very strong impact on runs scored. What this tells me is that many players may have a lot of scores just below 50 or a lot of scores between 50 and 100 leading to this chart's variation."
   ]
  },
  {
   "cell_type": "markdown",
   "id": "bfa28b78",
   "metadata": {},
   "source": [
    "The final question I want to answer is a simple one. Does more innings mean more runs? My expectation is that this should be similar to the balls faced vs runs scored chart shown above."
   ]
  },
  {
   "cell_type": "code",
   "execution_count": 53,
   "id": "6a8f9699",
   "metadata": {},
   "outputs": [
    {
     "data": {
      "image/png": "[encoded data removed]",
      "text/plain": [
       "<Figure size 1440x576 with 1 Axes>"
      ]
     },
     "metadata": {
      "needs_background": "light"
     },
     "output_type": "display_data"
    }
   ],
   "source": [
    "plt.figure(figsize = (20, 8))\n",
    "x = np.arange(25)\n",
    "most_innings = df_batting_combined_formatted.sort_values(by=\"Inns\", ascending=False)[:25]\n",
    "plt.bar(x-0.2, most_innings[\"Runs\"], width= 0.35, label='Runs', color='crimson')\n",
    "plt.bar(x+0.2, most_innings[\"Inns\"], width= 0.35, label='Innings', color='lawngreen')\n",
    "\n",
    "plt.ylabel(\"Runs Scored or Innings\")\n",
    "plt.legend([\"Runs\", \"Innings\"])\n",
    "plt.title(\"Runs Scored vs Innings for Top 25 Players based on most innings\")\n",
    "\n",
    "plt.show()"
   ]
  },
  {
   "cell_type": "markdown",
   "id": "666b9fad",
   "metadata": {},
   "source": [
    "So having more innings does not automatically mean having most runs contrary to the balls faced vs runs score chart. Also this was indicated in the correlation matrix results earlier with Innings not being highly correlated to runs scored. The logic I am understanding here is that having many innings does not automatically mean more balls faced especially if you bat lower than the order and only get a few balls per inning to face."
   ]
  },
  {
   "cell_type": "markdown",
   "id": "e8c4cc6d",
   "metadata": {},
   "source": [
    "## Creating rating system for T20 batsmen"
   ]
  },
  {
   "cell_type": "code",
   "execution_count": null,
   "id": "b159dd45",
   "metadata": {},
   "outputs": [],
   "source": []
  }
 ],
 "metadata": {
  "kernelspec": {
   "display_name": "Python 3 (ipykernel)",
   "language": "python",
   "name": "python3"
  },
  "language_info": {
   "codemirror_mode": {
    "name": "ipython",
    "version": 3
   },
   "file_extension": ".py",
   "mimetype": "text/x-python",
   "name": "python",
   "nbconvert_exporter": "python",
   "pygments_lexer": "ipython3",
   "version": "3.9.0"
  }
 },
 "nbformat": 4,
 "nbformat_minor": 5
}
