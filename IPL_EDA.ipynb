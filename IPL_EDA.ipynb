{
 "cells": [
  {
   "cell_type": "markdown",
   "id": "25b42b04",
   "metadata": {},
   "source": [
    "# IPL Exploratory Data Analysis"
   ]
  },
  {
   "cell_type": "markdown",
   "id": "0406fe17",
   "metadata": {},
   "source": [
    "## This notebook serves to explore the data of all IPL player statistics between 2016 and 2022. There will be EDA conducted on both the bowling and the batting statistics."
   ]
  },
  {
   "cell_type": "markdown",
   "id": "f1b19557",
   "metadata": {},
   "source": [
    "### 1. Import the data into the notebook. \n",
    "First I will define a function to load in data given a file path and a filename."
   ]
  },
  {
   "cell_type": "code",
   "execution_count": 1,
   "id": "edf7dbe9",
   "metadata": {},
   "outputs": [],
   "source": [
    "import os\n",
    "import pandas as pd\n",
    "\n",
    "\n",
    "def load_data(file_path , filename):\n",
    "    \n",
    "    csv_path = os.path.join(file_path, filename)\n",
    "    return pd.read_csv(csv_path)"
   ]
  },
  {
   "cell_type": "code",
   "execution_count": 34,
   "id": "ccf87266",
   "metadata": {},
   "outputs": [],
   "source": [
    "def write_csv_data(file_path, filename, df):\n",
    "    csv_path = os.path.join(file_path, filename)\n",
    "    df.to_csv(csv_path)\n",
    "    \n",
    "    if os.path.exists(csv_path) and os.path.getsize(csv_path) > 0:\n",
    "        print(filename + \" was written to successfully!\")"
   ]
  },
  {
   "cell_type": "markdown",
   "id": "b0b28675",
   "metadata": {},
   "source": [
    "#### 1a. Load in batting data\n",
    "We will then call the function to load in all batting data."
   ]
  },
  {
   "cell_type": "code",
   "execution_count": 2,
   "id": "a370be9e",
   "metadata": {},
   "outputs": [],
   "source": [
    "batting_file_path = \"Data/Batting_Stats\"\n",
    "\n",
    "\n",
    "# All batting dataframes\n",
    "batting_2016 = load_data(batting_file_path, \"BATTING_STATS-IPL_2016.csv\")\n",
    "batting_2017 = load_data(batting_file_path, \"BATTING_STATS-IPL_2017.csv\")\n",
    "batting_2018 = load_data(batting_file_path, \"BATTING_STATS-IPL_2018.csv\")\n",
    "batting_2019 = load_data(batting_file_path, \"BATTING_STATS-IPL_2019.csv\")\n",
    "batting_2020 = load_data(batting_file_path, \"BATTING_STATS-IPL_2020.csv\")\n",
    "batting_2021 = load_data(batting_file_path, \"BATTING_STATS-IPL_2021.csv\")\n",
    "batting_2022 = load_data(batting_file_path, \"BATTING_STATS-IPL_2022.csv\")\n",
    "\n"
   ]
  },
  {
   "cell_type": "markdown",
   "id": "14d72164",
   "metadata": {},
   "source": [
    "#### 1b. Load in bowling data\n",
    "We will then call the function to load in all bowling data."
   ]
  },
  {
   "cell_type": "code",
   "execution_count": 3,
   "id": "7968a1ec",
   "metadata": {},
   "outputs": [],
   "source": [
    "bowling_file_path = \"Data/Bowling_Stats\"\n",
    "\n",
    "# All bowling dataframes\n",
    "bowling_2016 = load_data(bowling_file_path, \"BOWLING_STATS-IPL_2016.csv\")\n",
    "bowling_2017 = load_data(bowling_file_path, \"BOWLING_STATS-IPL_2017.csv\")\n",
    "bowling_2018 = load_data(bowling_file_path, \"BOWLING_STATS-IPL_2018.csv\")\n",
    "bowling_2019 = load_data(bowling_file_path, \"BOWLING_STATS-IPL_2019.csv\")\n",
    "bowling_2020 = load_data(bowling_file_path, \"BOWLING_STATS-IPL_2020.csv\")\n",
    "bowling_2021 = load_data(bowling_file_path, \"BOWLING_STATS-IPL_2021.csv\")\n",
    "bowling_2022 = load_data(bowling_file_path, \"BOWLING_STATS-IPL_2022.csv\")"
   ]
  },
  {
   "cell_type": "markdown",
   "id": "ab17a838",
   "metadata": {},
   "source": [
    "### 2. Take a first look at the dataframes\n",
    "We will use some basic dataframe commands to inspect the content."
   ]
  },
  {
   "cell_type": "code",
   "execution_count": 5,
   "id": "9f536461",
   "metadata": {},
   "outputs": [
    {
     "data": {
      "text/html": [
       "<div>\n",
       "<style scoped>\n",
       "    .dataframe tbody tr th:only-of-type {\n",
       "        vertical-align: middle;\n",
       "    }\n",
       "\n",
       "    .dataframe tbody tr th {\n",
       "        vertical-align: top;\n",
       "    }\n",
       "\n",
       "    .dataframe thead th {\n",
       "        text-align: right;\n",
       "    }\n",
       "</style>\n",
       "<table border=\"1\" class=\"dataframe\">\n",
       "  <thead>\n",
       "    <tr style=\"text-align: right;\">\n",
       "      <th></th>\n",
       "      <th>POS</th>\n",
       "      <th>Player</th>\n",
       "      <th>Mat</th>\n",
       "      <th>Inns</th>\n",
       "      <th>NO</th>\n",
       "      <th>Runs</th>\n",
       "      <th>HS</th>\n",
       "      <th>Avg</th>\n",
       "      <th>BF</th>\n",
       "      <th>SR</th>\n",
       "      <th>100</th>\n",
       "      <th>50</th>\n",
       "      <th>4s</th>\n",
       "      <th>6s</th>\n",
       "    </tr>\n",
       "  </thead>\n",
       "  <tbody>\n",
       "    <tr>\n",
       "      <th>0</th>\n",
       "      <td>1</td>\n",
       "      <td>Jos Buttler</td>\n",
       "      <td>17</td>\n",
       "      <td>17</td>\n",
       "      <td>2</td>\n",
       "      <td>863</td>\n",
       "      <td>116</td>\n",
       "      <td>57.53</td>\n",
       "      <td>579</td>\n",
       "      <td>149.05</td>\n",
       "      <td>4</td>\n",
       "      <td>4</td>\n",
       "      <td>83</td>\n",
       "      <td>45</td>\n",
       "    </tr>\n",
       "    <tr>\n",
       "      <th>1</th>\n",
       "      <td>2</td>\n",
       "      <td>K L Rahul</td>\n",
       "      <td>15</td>\n",
       "      <td>15</td>\n",
       "      <td>3</td>\n",
       "      <td>616</td>\n",
       "      <td>103*</td>\n",
       "      <td>51.33</td>\n",
       "      <td>455</td>\n",
       "      <td>135.38</td>\n",
       "      <td>2</td>\n",
       "      <td>4</td>\n",
       "      <td>45</td>\n",
       "      <td>30</td>\n",
       "    </tr>\n",
       "    <tr>\n",
       "      <th>2</th>\n",
       "      <td>3</td>\n",
       "      <td>Quinton De Kock</td>\n",
       "      <td>15</td>\n",
       "      <td>15</td>\n",
       "      <td>1</td>\n",
       "      <td>508</td>\n",
       "      <td>140*</td>\n",
       "      <td>36.29</td>\n",
       "      <td>341</td>\n",
       "      <td>148.97</td>\n",
       "      <td>1</td>\n",
       "      <td>3</td>\n",
       "      <td>47</td>\n",
       "      <td>23</td>\n",
       "    </tr>\n",
       "    <tr>\n",
       "      <th>3</th>\n",
       "      <td>4</td>\n",
       "      <td>Hardik Pandya</td>\n",
       "      <td>15</td>\n",
       "      <td>15</td>\n",
       "      <td>4</td>\n",
       "      <td>487</td>\n",
       "      <td>87*</td>\n",
       "      <td>44.27</td>\n",
       "      <td>371</td>\n",
       "      <td>131.26</td>\n",
       "      <td>0</td>\n",
       "      <td>4</td>\n",
       "      <td>49</td>\n",
       "      <td>12</td>\n",
       "    </tr>\n",
       "    <tr>\n",
       "      <th>4</th>\n",
       "      <td>5</td>\n",
       "      <td>Shubman Gill</td>\n",
       "      <td>16</td>\n",
       "      <td>16</td>\n",
       "      <td>2</td>\n",
       "      <td>483</td>\n",
       "      <td>96</td>\n",
       "      <td>34.5</td>\n",
       "      <td>365</td>\n",
       "      <td>132.32</td>\n",
       "      <td>0</td>\n",
       "      <td>4</td>\n",
       "      <td>51</td>\n",
       "      <td>11</td>\n",
       "    </tr>\n",
       "  </tbody>\n",
       "</table>\n",
       "</div>"
      ],
      "text/plain": [
       "   POS           Player  Mat  Inns  NO  Runs    HS    Avg   BF      SR  100  \\\n",
       "0    1      Jos Buttler   17    17   2   863   116  57.53  579  149.05    4   \n",
       "1    2        K L Rahul   15    15   3   616  103*  51.33  455  135.38    2   \n",
       "2    3  Quinton De Kock   15    15   1   508  140*  36.29  341  148.97    1   \n",
       "3    4    Hardik Pandya   15    15   4   487   87*  44.27  371  131.26    0   \n",
       "4    5     Shubman Gill   16    16   2   483    96   34.5  365  132.32    0   \n",
       "\n",
       "   50  4s  6s  \n",
       "0   4  83  45  \n",
       "1   4  45  30  \n",
       "2   3  47  23  \n",
       "3   4  49  12  \n",
       "4   4  51  11  "
      ]
     },
     "execution_count": 5,
     "metadata": {},
     "output_type": "execute_result"
    }
   ],
   "source": [
    "batting_2022.head()"
   ]
  },
  {
   "cell_type": "code",
   "execution_count": 6,
   "id": "4b1da0fb",
   "metadata": {},
   "outputs": [
    {
     "data": {
      "text/html": [
       "<div>\n",
       "<style scoped>\n",
       "    .dataframe tbody tr th:only-of-type {\n",
       "        vertical-align: middle;\n",
       "    }\n",
       "\n",
       "    .dataframe tbody tr th {\n",
       "        vertical-align: top;\n",
       "    }\n",
       "\n",
       "    .dataframe thead th {\n",
       "        text-align: right;\n",
       "    }\n",
       "</style>\n",
       "<table border=\"1\" class=\"dataframe\">\n",
       "  <thead>\n",
       "    <tr style=\"text-align: right;\">\n",
       "      <th></th>\n",
       "      <th>POS</th>\n",
       "      <th>Player</th>\n",
       "      <th>Mat</th>\n",
       "      <th>Inns</th>\n",
       "      <th>Ov</th>\n",
       "      <th>Runs</th>\n",
       "      <th>Wkts</th>\n",
       "      <th>BBI</th>\n",
       "      <th>Avg</th>\n",
       "      <th>Econ</th>\n",
       "      <th>SR</th>\n",
       "      <th>4w</th>\n",
       "      <th>5w</th>\n",
       "    </tr>\n",
       "  </thead>\n",
       "  <tbody>\n",
       "    <tr>\n",
       "      <th>0</th>\n",
       "      <td>1</td>\n",
       "      <td>Yuzvendra Chahal</td>\n",
       "      <td>17</td>\n",
       "      <td>17</td>\n",
       "      <td>68.0</td>\n",
       "      <td>527</td>\n",
       "      <td>27</td>\n",
       "      <td>40/5</td>\n",
       "      <td>19.51</td>\n",
       "      <td>7.75</td>\n",
       "      <td>15.11</td>\n",
       "      <td>1</td>\n",
       "      <td>1</td>\n",
       "    </tr>\n",
       "    <tr>\n",
       "      <th>1</th>\n",
       "      <td>2</td>\n",
       "      <td>Wanindu Hasaranga</td>\n",
       "      <td>16</td>\n",
       "      <td>16</td>\n",
       "      <td>57.0</td>\n",
       "      <td>430</td>\n",
       "      <td>26</td>\n",
       "      <td>18/5</td>\n",
       "      <td>16.53</td>\n",
       "      <td>7.54</td>\n",
       "      <td>13.15</td>\n",
       "      <td>1</td>\n",
       "      <td>1</td>\n",
       "    </tr>\n",
       "    <tr>\n",
       "      <th>2</th>\n",
       "      <td>3</td>\n",
       "      <td>Kagiso Rabada</td>\n",
       "      <td>13</td>\n",
       "      <td>13</td>\n",
       "      <td>48.0</td>\n",
       "      <td>406</td>\n",
       "      <td>23</td>\n",
       "      <td>33/4</td>\n",
       "      <td>17.65</td>\n",
       "      <td>8.45</td>\n",
       "      <td>12.52</td>\n",
       "      <td>2</td>\n",
       "      <td>0</td>\n",
       "    </tr>\n",
       "    <tr>\n",
       "      <th>3</th>\n",
       "      <td>4</td>\n",
       "      <td>Umran Malik</td>\n",
       "      <td>14</td>\n",
       "      <td>14</td>\n",
       "      <td>49.1</td>\n",
       "      <td>444</td>\n",
       "      <td>22</td>\n",
       "      <td>25/5</td>\n",
       "      <td>20.18</td>\n",
       "      <td>9.03</td>\n",
       "      <td>13.40</td>\n",
       "      <td>1</td>\n",
       "      <td>1</td>\n",
       "    </tr>\n",
       "    <tr>\n",
       "      <th>4</th>\n",
       "      <td>5</td>\n",
       "      <td>Kuldeep Yadav</td>\n",
       "      <td>14</td>\n",
       "      <td>14</td>\n",
       "      <td>49.4</td>\n",
       "      <td>419</td>\n",
       "      <td>21</td>\n",
       "      <td>14/4</td>\n",
       "      <td>19.95</td>\n",
       "      <td>8.43</td>\n",
       "      <td>14.19</td>\n",
       "      <td>2</td>\n",
       "      <td>0</td>\n",
       "    </tr>\n",
       "  </tbody>\n",
       "</table>\n",
       "</div>"
      ],
      "text/plain": [
       "   POS             Player  Mat  Inns    Ov  Runs  Wkts   BBI    Avg  Econ  \\\n",
       "0    1   Yuzvendra Chahal   17    17  68.0   527    27  40/5  19.51  7.75   \n",
       "1    2  Wanindu Hasaranga   16    16  57.0   430    26  18/5  16.53  7.54   \n",
       "2    3      Kagiso Rabada   13    13  48.0   406    23  33/4  17.65  8.45   \n",
       "3    4        Umran Malik   14    14  49.1   444    22  25/5  20.18  9.03   \n",
       "4    5      Kuldeep Yadav   14    14  49.4   419    21  14/4  19.95  8.43   \n",
       "\n",
       "      SR  4w  5w  \n",
       "0  15.11   1   1  \n",
       "1  13.15   1   1  \n",
       "2  12.52   2   0  \n",
       "3  13.40   1   1  \n",
       "4  14.19   2   0  "
      ]
     },
     "execution_count": 6,
     "metadata": {},
     "output_type": "execute_result"
    }
   ],
   "source": [
    "bowling_2022.head()"
   ]
  },
  {
   "cell_type": "markdown",
   "id": "c14bafa5",
   "metadata": {},
   "source": [
    "### 2a. Info function analysis\n",
    "Info function will give us details on whether any fields contain null values and after running the function on all dataframes, there doesn't seem to be any null values. This is very good."
   ]
  },
  {
   "cell_type": "code",
   "execution_count": 16,
   "id": "9c66ed09",
   "metadata": {},
   "outputs": [
    {
     "name": "stdout",
     "output_type": "stream",
     "text": [
      "<class 'pandas.core.frame.DataFrame'>\n",
      "RangeIndex: 162 entries, 0 to 161\n",
      "Data columns (total 14 columns):\n",
      " #   Column  Non-Null Count  Dtype  \n",
      "---  ------  --------------  -----  \n",
      " 0   POS     162 non-null    int64  \n",
      " 1   Player  162 non-null    object \n",
      " 2   Mat     162 non-null    int64  \n",
      " 3   Inns    162 non-null    int64  \n",
      " 4   NO      162 non-null    int64  \n",
      " 5   Runs    162 non-null    int64  \n",
      " 6   HS      162 non-null    object \n",
      " 7   Avg     162 non-null    object \n",
      " 8   BF      162 non-null    int64  \n",
      " 9   SR      162 non-null    float64\n",
      " 10  100     162 non-null    int64  \n",
      " 11  50      162 non-null    int64  \n",
      " 12  4s      162 non-null    int64  \n",
      " 13  6s      162 non-null    int64  \n",
      "dtypes: float64(1), int64(10), object(3)\n",
      "memory usage: 17.8+ KB\n"
     ]
    }
   ],
   "source": [
    "batting_2022.info()"
   ]
  },
  {
   "cell_type": "code",
   "execution_count": 23,
   "id": "3ce76c16",
   "metadata": {},
   "outputs": [
    {
     "name": "stdout",
     "output_type": "stream",
     "text": [
      "<class 'pandas.core.frame.DataFrame'>\n",
      "RangeIndex: 103 entries, 0 to 102\n",
      "Data columns (total 13 columns):\n",
      " #   Column  Non-Null Count  Dtype  \n",
      "---  ------  --------------  -----  \n",
      " 0   POS     103 non-null    int64  \n",
      " 1   Player  103 non-null    object \n",
      " 2   Mat     103 non-null    int64  \n",
      " 3   Inns    103 non-null    int64  \n",
      " 4   Ov      103 non-null    float64\n",
      " 5   Runs    103 non-null    int64  \n",
      " 6   Wkts    103 non-null    int64  \n",
      " 7   BBI     103 non-null    object \n",
      " 8   Avg     103 non-null    float64\n",
      " 9   Econ    103 non-null    float64\n",
      " 10  SR      103 non-null    float64\n",
      " 11  4w      103 non-null    int64  \n",
      " 12  5w      103 non-null    int64  \n",
      "dtypes: float64(4), int64(7), object(2)\n",
      "memory usage: 10.6+ KB\n"
     ]
    }
   ],
   "source": [
    "bowling_2022.info()"
   ]
  },
  {
   "cell_type": "markdown",
   "id": "1b6d0b68",
   "metadata": {},
   "source": [
    "### 3. Merging the dataframes\n",
    "Before performing analysis on the data, I think it is best to merge the batting and bowling dataframes into 1 each to better represent a player's performance over the course of the years."
   ]
  },
  {
   "cell_type": "markdown",
   "id": "bf9d5529",
   "metadata": {},
   "source": [
    "### 3a. Merging batting data"
   ]
  },
  {
   "cell_type": "code",
   "execution_count": 42,
   "id": "f9c18dd9",
   "metadata": {},
   "outputs": [
    {
     "name": "stdout",
     "output_type": "stream",
     "text": [
      "batting_data_merged.csv was written to successfully!\n"
     ]
    }
   ],
   "source": [
    "# Merge year 2016 and 2017\n",
    "batting_data_2016_2017_merged = batting_2016.merge(batting_2017, how='outer', on='Player', suffixes=('_2016', '_2017'))\n",
    "# Merge year 2018 and 2019\n",
    "batting_data_2018_2019_merged = batting_2018.merge(batting_2019, how='outer', on='Player', suffixes=('_2018', '_2019'))\n",
    "# Merge year 2016, 2017, 2018, and 2019\n",
    "batting_data_2016_2019_merged = batting_data_2016_2017_merged.merge(batting_data_2018_2019_merged, how='outer', on='Player')\n",
    "\n",
    "# Merge year 2020 and 2021\n",
    "batting_data_2020_2021_merged = batting_2020.merge(batting_2021, how='outer', on='Player', suffixes=('_2020', '_2021'))\n",
    "# Merge year 2020, 2021, and 2022\n",
    "batting_data_2020_2022_merged = batting_data_2020_2021_merged.merge(batting_2022, how='outer', on='Player')\n",
    "# Merge all dataframes together essentially\n",
    "batting_data = batting_data_2016_2019_merged.merge(batting_data_2020_2022_merged, how='outer', on='Player')\n",
    "\n",
    "# Calling function to write a csv file to our output folder\n",
    "write_csv_data(\"Outputs\", \"batting_data_merged.csv\", batting_data)"
   ]
  },
  {
   "cell_type": "markdown",
   "id": "390ff092",
   "metadata": {},
   "source": [
    "### 3b. Merging bowling data"
   ]
  },
  {
   "cell_type": "code",
   "execution_count": 48,
   "id": "528a4a93",
   "metadata": {},
   "outputs": [
    {
     "name": "stdout",
     "output_type": "stream",
     "text": [
      "bowling_data_merged.csv was written to successfully!\n"
     ]
    }
   ],
   "source": [
    "# Merge year 2016 and 2017\n",
    "bowling_data_2016_2017_merged = bowling_2016.merge(bowling_2017, how='outer', on='Player', suffixes=('_2016', '_2017'))\n",
    "# Merge year 2018 and 2019\n",
    "bowling_data_2018_2019_merged = bowling_2018.merge(bowling_2019, how='outer', on='Player', suffixes=('_2018', '_2019'))\n",
    "# Merge year 2016, 2017, 2018, and 2019\n",
    "bowling_data_2016_2019_merged = bowling_data_2016_2017_merged.merge(bowling_data_2018_2019_merged, how='outer', on='Player')\n",
    "\n",
    "# Merge year 2020 and 2021\n",
    "bowling_data_2020_2021_merged = bowling_2020.merge(bowling_2021, how='outer', on='Player', suffixes=('_2020', '_2021'))\n",
    "# Merge year 2020, 2021, and 2022\n",
    "bowling_data_2020_2022_merged = bowling_data_2020_2021_merged.merge(bowling_2022, how='outer', on='Player')\n",
    "# Merge all dataframes together essentially\n",
    "bowling_data = bowling_data_2016_2019_merged.merge(bowling_data_2020_2022_merged, how='outer', on='Player')\n",
    "\n",
    "# Calling function to write a csv file to our output folder\n",
    "write_csv_data(\"Outputs\", \"bowling_data_merged.csv\", bowling_data)"
   ]
  },
  {
   "cell_type": "markdown",
   "id": "2324ca2d",
   "metadata": {},
   "source": [
    "### 3a. Dropping unneeded columns\n",
    "For the batting data, we do not need the POS field since merging the data will cause duplicates in this field. For bowling we do not need POS and Best Bowling Innings since the date value isn't relevant anymore."
   ]
  },
  {
   "cell_type": "code",
   "execution_count": 44,
   "id": "9f714550",
   "metadata": {},
   "outputs": [
    {
     "name": "stdout",
     "output_type": "stream",
     "text": [
      "batting_data_dropped_unneeded_columns.csv was written to successfully!\n"
     ]
    }
   ],
   "source": [
    "batting_data.drop(['POS_2016', 'POS_2017', 'POS_2018', 'POS_2019', 'POS_2020', 'POS_2021', 'POS'], axis=1, inplace=True)\n",
    "\n",
    "# Calling function to write a csv file to our output folder\n",
    "write_csv_data(\"Outputs\", \"batting_data_dropped_unneeded_columns.csv\", batting_data)"
   ]
  },
  {
   "cell_type": "code",
   "execution_count": 49,
   "id": "3e4fced8",
   "metadata": {},
   "outputs": [
    {
     "name": "stdout",
     "output_type": "stream",
     "text": [
      "bowling_data_dropped_unneeded_columns.csv was written to successfully!\n"
     ]
    }
   ],
   "source": [
    "bowling_data.drop(['POS_2016', 'POS_2017', 'POS_2018', 'POS_2019', 'POS_2020', 'POS_2021', 'POS'], axis=1, inplace=True)\n",
    "bowling_data.drop(['BBI_2016', 'BBI_2017', 'BBI_2018', 'BBI_2019', 'BBI_2020', 'BBI_2021', 'BBI'], axis=1, inplace=True)\n",
    "\n",
    "# Calling function to write a csv file to our output folder\n",
    "write_csv_data(\"Outputs\", \"bowling_data_dropped_unneeded_columns.csv\", bowling_data)"
   ]
  },
  {
   "cell_type": "markdown",
   "id": "415247d5",
   "metadata": {},
   "source": [
    "### 4. Extracting more detailed information about each dataset\n",
    "We want to get a better feel for the data so we will use the describe method and the hist() function to plot all values of the dataframe in histograms."
   ]
  },
  {
   "cell_type": "code",
   "execution_count": null,
   "id": "ae901bc2",
   "metadata": {},
   "outputs": [],
   "source": []
  }
 ],
 "metadata": {
  "kernelspec": {
   "display_name": "Python 3 (ipykernel)",
   "language": "python",
   "name": "python3"
  },
  "language_info": {
   "codemirror_mode": {
    "name": "ipython",
    "version": 3
   },
   "file_extension": ".py",
   "mimetype": "text/x-python",
   "name": "python",
   "nbconvert_exporter": "python",
   "pygments_lexer": "ipython3",
   "version": "3.9.0"
  }
 },
 "nbformat": 4,
 "nbformat_minor": 5
}
